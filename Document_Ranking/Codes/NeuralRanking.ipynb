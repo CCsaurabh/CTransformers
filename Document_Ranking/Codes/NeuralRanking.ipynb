{
  "nbformat": 4,
  "nbformat_minor": 0,
  "metadata": {
    "colab": {
      "provenance": [],
      "authorship_tag": "ABX9TyMBF24s5w//WdEgj3Vw73/+"
    },
    "kernelspec": {
      "name": "python3",
      "display_name": "Python 3"
    },
    "language_info": {
      "name": "python"
    }
  },
  "cells": [
    {
      "cell_type": "code",
      "execution_count": null,
      "metadata": {
        "id": "nmGz1RaxlvJz"
      },
      "outputs": [],
      "source": [
        "!python -m spacy download en_core_web_md"
      ]
    },
    {
      "cell_type": "code",
      "source": [
        "import spacy\n",
        "\n",
        "# Load the spaCy English model\n",
        "nlp = spacy.load('en_core_web_md')\n",
        "\n",
        "# Define the query and document text\n",
        "query_text = \"How do I bake a cake?\"\n",
        "document_text = \"To bake a cake, first preheat the oven to 350 degrees...\"\n",
        "\n",
        "# Tokenize the query and document\n",
        "query_tokens = nlp(query_text)\n",
        "document_tokens = nlp(document_text)\n",
        "\n",
        "# Create a list of all the unique tokens in the query and document\n",
        "unique_tokens = list(set(query_tokens).union(set(document_tokens)))\n",
        "\n",
        "# Create a dictionary to map each unique token to an index in the translation matrix\n",
        "token_to_index = {token: i for i, token in enumerate(unique_tokens)}\n",
        "\n",
        "# Create a translation matrix\n",
        "translation_matrix = [[token1.similarity(token2) for token2 in document_tokens] for token1 in query_tokens]\n",
        "\n",
        "# Print the translation matrix\n",
        "for row in translation_matrix:\n",
        "    print(row)\n"
      ],
      "metadata": {
        "colab": {
          "base_uri": "https://localhost:8080/"
        },
        "id": "VBnTQVS8lv0H",
        "outputId": "5b2ec8cf-b21d-404c-9b2f-ba97dac9e4c1"
      },
      "execution_count": 3,
      "outputs": [
        {
          "output_type": "stream",
          "name": "stdout",
          "text": [
            "[0.3902626931667328, 0.10190325230360031, -0.06002842262387276, 0.13132202625274658, -0.15419313311576843, -0.08557020127773285, 0.08044224232435226, -0.14644569158554077, 0.08044224232435226, 0.10493485629558563, -0.002115983283147216, -0.08632683753967285, 0.3338114619255066]\n",
            "[0.1423587203025818, 0.2531106173992157, -0.09527217596769333, 0.13140828907489777, 0.03369712829589844, -0.09242206066846848, 0.1153697669506073, -0.11884598433971405, 0.1153697669506073, 0.21151939034461975, -0.049735523760318756, -0.003916271962225437, 0.2794070243835449]\n",
            "[0.051427774131298065, 0.16962769627571106, 0.07701238244771957, 0.2279994785785675, 0.024386245757341385, 0.08475220203399658, 0.12592990696430206, -0.08110295236110687, 0.12592990696430206, 0.20244279503822327, -0.07619468122720718, -0.018749741837382317, 0.33724159002304077]\n",
            "[0.03496461734175682, 1.0, -0.008149955421686172, 0.6585032939910889, -0.0473538301885128, -0.054753053933382034, 0.6747217774391174, -0.059505946934223175, 0.6747217774391174, 0.006675859913229942, 0.11306571960449219, 0.17234230041503906, 0.18396659195423126]\n",
            "[-0.01704620011150837, -0.008149955421686172, 1.0, 0.08828524500131607, 0.19632378220558167, 0.37743666768074036, 0.09547468274831772, 0.4597775936126709, 0.09547468274831772, 0.22502927482128143, 0.008158573880791664, 0.1434646099805832, 0.1200055256485939]\n",
            "[0.06973537057638168, 0.6585032939910889, 0.08828524500131607, 1.0, -0.08501037955284119, 0.01201432105153799, 0.4744046628475189, -0.052969399839639664, 0.4744046628475189, -0.0019310323987156153, 0.06388045847415924, 0.02118636853992939, 0.22646626830101013]\n",
            "[0.20194773375988007, 0.13039140403270721, 0.03655000776052475, 0.13449779152870178, -0.03736488148570061, -0.028825288638472557, 0.10368507355451584, -0.07520099729299545, 0.10368507355451584, 0.05451109632849693, -0.05608612671494484, -0.06899023056030273, 0.45982545614242554]\n"
          ]
        }
      ]
    },
    {
      "cell_type": "code",
      "source": [
        "len(translation_matrix)"
      ],
      "metadata": {
        "colab": {
          "base_uri": "https://localhost:8080/"
        },
        "id": "Eh2ONezlmNhw",
        "outputId": "f6f5f249-d184-461b-be34-ba5943fc55f7"
      },
      "execution_count": 5,
      "outputs": [
        {
          "output_type": "execute_result",
          "data": {
            "text/plain": [
              "7"
            ]
          },
          "metadata": {},
          "execution_count": 5
        }
      ]
    },
    {
      "cell_type": "code",
      "source": [
        "len(translation_matrix[0])"
      ],
      "metadata": {
        "colab": {
          "base_uri": "https://localhost:8080/"
        },
        "id": "A6xRJsNDmSTk",
        "outputId": "5affef01-ed34-4c46-a87c-d02d528276c3"
      },
      "execution_count": 6,
      "outputs": [
        {
          "output_type": "execute_result",
          "data": {
            "text/plain": [
              "13"
            ]
          },
          "metadata": {},
          "execution_count": 6
        }
      ]
    },
    {
      "cell_type": "code",
      "source": [],
      "metadata": {
        "id": "_nFCwB4MmWgj"
      },
      "execution_count": null,
      "outputs": []
    }
  ]
}