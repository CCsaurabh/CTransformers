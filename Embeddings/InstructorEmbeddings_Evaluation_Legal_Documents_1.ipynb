{
  "nbformat": 4,
  "nbformat_minor": 0,
  "metadata": {
    "colab": {
      "provenance": [],
      "authorship_tag": "ABX9TyOluwchdIivHmWyQg/KWT0R"
    },
    "kernelspec": {
      "name": "python3",
      "display_name": "Python 3"
    },
    "language_info": {
      "name": "python"
    }
  },
  "cells": [
    {
      "cell_type": "code",
      "execution_count": null,
      "metadata": {
        "id": "77b49pW8Btq4"
      },
      "outputs": [],
      "source": [
        "!pip install InstructorEmbedding"
      ]
    },
    {
      "cell_type": "code",
      "source": [
        "!pip install -U sentence-transformers\n",
        "# imports\n",
        "import torch\n",
        "from InstructorEmbedding import INSTRUCTOR"
      ],
      "metadata": {
        "id": "7bA1b9ysCKO4"
      },
      "execution_count": null,
      "outputs": []
    },
    {
      "cell_type": "code",
      "source": [
        "!pip install langchain"
      ],
      "metadata": {
        "id": "Sl1K_aR7C-FZ"
      },
      "execution_count": null,
      "outputs": []
    },
    {
      "cell_type": "code",
      "source": [
        "from langchain.llms import LlamaCpp\n",
        "from langchain import PromptTemplate, LLMChain\n",
        "from langchain.callbacks.manager import CallbackManager\n",
        "from langchain.callbacks.streaming_stdout import (StreamingStdOutCallbackHandler)\n",
        "from langchain.vectorstores import FAISS\n",
        "from langchain.embeddings import HuggingFaceInstructEmbeddings\n",
        "from langchain.document_loaders import UnstructuredFileLoader\n",
        "from langchain.text_splitter import RecursiveCharacterTextSplitter"
      ],
      "metadata": {
        "id": "owCO2Y_7DyhX"
      },
      "execution_count": null,
      "outputs": []
    },
    {
      "cell_type": "code",
      "source": [
        "!pip install PyPDF2\n",
        "!pip install faiss-cpu"
      ],
      "metadata": {
        "id": "Kh4XN7vtD73y"
      },
      "execution_count": null,
      "outputs": []
    },
    {
      "cell_type": "code",
      "source": [
        "# embedding engine\n",
        "hf_embedding = HuggingFaceInstructEmbeddings()"
      ],
      "metadata": {
        "id": "AkMyf7mWD2If"
      },
      "execution_count": null,
      "outputs": []
    },
    {
      "cell_type": "code",
      "source": [
        "from PyPDF2 import PdfReader\n",
        "from langchain.text_splitter import CharacterTextSplitter"
      ],
      "metadata": {
        "id": "4pmEXJeeD5Lc"
      },
      "execution_count": null,
      "outputs": []
    },
    {
      "cell_type": "markdown",
      "source": [
        "### Prepare the Data"
      ],
      "metadata": {
        "id": "S7rAWffCvTyW"
      }
    },
    {
      "cell_type": "code",
      "source": [
        "!wget -O dataset.zip https://zenodo.org/record/7152317/files/dataset.zip?download=1\n"
      ],
      "metadata": {
        "id": "IlGKUgFSGwS7"
      },
      "execution_count": null,
      "outputs": []
    },
    {
      "cell_type": "code",
      "source": [
        "!unzip dataset.zip"
      ],
      "metadata": {
        "id": "hQb-XvwqvWdv"
      },
      "execution_count": null,
      "outputs": []
    },
    {
      "cell_type": "code",
      "source": [
        "judgement_path1 = '/content/dataset/IN-Abs/train-data/judgement/1.txt'\n",
        "with open(judgement_path1, 'r') as file:\n",
        "    judgement_1 = file.read()\n"
      ],
      "metadata": {
        "id": "2Ivqc7KCvWgn"
      },
      "execution_count": null,
      "outputs": []
    },
    {
      "cell_type": "code",
      "source": [
        "judgement_1"
      ],
      "metadata": {
        "id": "T9UEgSMhve0Q"
      },
      "execution_count": null,
      "outputs": []
    },
    {
      "cell_type": "code",
      "source": [
        "# ###Prepare the text information\n",
        "# #### Data from here : https://ncert.nic.in/textbook/pdf/leac203.pdf\n",
        "# pdf_docs = ['leac203.pdf']\n",
        "# text = \"\"\n",
        "# for pdf in pdf_docs:\n",
        "#     pdf_reader = PdfReader(pdf)\n",
        "#     for page in pdf_reader.pages:\n",
        "#         text += page.extract_text()\n",
        "text_splitter = CharacterTextSplitter(\n",
        "    separator=\"\\n\",\n",
        "    chunk_size=1000,\n",
        "    chunk_overlap=200,\n",
        "    length_function=len\n",
        ")\n",
        "chunks = text_splitter.split_text(judgement_1)\n",
        "from langchain.embeddings import HuggingFaceEmbeddings,HuggingFaceInstructEmbeddings\n",
        "from langchain.vectorstores import FAISS\n",
        "\n",
        "model_name = \"sentence-transformers/all-mpnet-base-v2\"\n",
        "#model_name = 'hkunlp/instructor-xl'\n",
        "model_kwargs = {\"device\": \"cpu\"}\n",
        "\n",
        "#embeddings = HuggingFaceInstructEmbeddings(model_name=model_name, model_kwargs=model_kwargs)\n",
        "embeddings = HuggingFaceEmbeddings(model_name = model_name, model_kwargs=model_kwargs)\n",
        "\n",
        "# storing embeddings in the vector store\n",
        "vectorstore = FAISS.from_texts(chunks, embeddings)\n",
        "# save embeddings in local directory\n",
        "vectorstore.save_local(\"legal_1\")\n",
        "\n",
        "# load from local\n",
        "db = FAISS.load_local(\"legal_1/\", embeddings=hf_embedding)"
      ],
      "metadata": {
        "id": "QXRYKOmyv_9t"
      },
      "execution_count": null,
      "outputs": []
    },
    {
      "cell_type": "code",
      "source": [
        "query = \"Which Acts were involved\"\n",
        "search = db.similarity_search(query, k=2)\n",
        "\n",
        "# Using list comprehension\n",
        "page_contents = [doc.page_content for doc in search]\n",
        "\n"
      ],
      "metadata": {
        "id": "FrwRZE11wx9L"
      },
      "execution_count": null,
      "outputs": []
    },
    {
      "cell_type": "code",
      "source": [
        "page_contents[0]"
      ],
      "metadata": {
        "colab": {
          "base_uri": "https://localhost:8080/",
          "height": 140
        },
        "id": "HxFhjgeKxBy5",
        "outputId": "11771677-3180-473a-a6c8-baa271e8fc16"
      },
      "execution_count": null,
      "outputs": [
        {
          "output_type": "execute_result",
          "data": {
            "text/plain": [
              "'With great respect, it may be pointed out that all charges in a way may be or are of a variable and contingent na ture.\\nIf no default is made, no charge is ever enforceable and whenever there is a charge, it can be increased or reduced during the year either by payment or by additional borrowing.\\nIn Moss Empires Ltd. vs Inland Revenue Commissioners (1) it was held by the House of Lords that the fact that certain payments were contingent and variable in amount did not affect their character of being annual payments and that the word, \"annual\" must be taken to have the quality of being recurrent or being capable of recurrence.\\nIn Cunard \\'s Trustees vs Inland Revenue Commissioners (2) it was held that the payments were capable of being recur rent and were therefore annual payments within the meaning of schedule D, case III, rule 1 (1), even though they were not necessarily recurrent year by year and the fact that they varied in amount was immaterial.'"
            ],
            "application/vnd.google.colaboratory.intrinsic+json": {
              "type": "string"
            }
          },
          "metadata": {},
          "execution_count": 21
        }
      ]
    },
    {
      "cell_type": "code",
      "source": [
        "page_contents[1]"
      ],
      "metadata": {
        "colab": {
          "base_uri": "https://localhost:8080/",
          "height": 140
        },
        "id": "5G2jYNw1xC9e",
        "outputId": "a765b533-fdee-4159-cae1-8c1b57feefe4"
      },
      "execution_count": null,
      "outputs": [
        {
          "output_type": "execute_result",
          "data": {
            "text/plain": [
              "'Procedure has also been prescribed for recovery of the instalments by presentment of a bill, a notice of demand and then distress, and sale.\\nFinally section 212 provides as follows : \"Property taxes due under this Act in respect of any building or land shall, subject to the prior payment of the land revenue, if any, due to the provincial ,Government thereupon, be a first charge . . upon the said build ing or land . \" It creates a statutory charge on the building.\\nUrban immove able property tax is leviable under section 22 of Part VI of the Bombay Finance Act, 1932,on the annual letting value of the property.\\nThe duty to collect the tax is laid on the municipality and it does so in the same manner as in the case of the municipal property tax.\\nSection 24 (2) (b) is in terms similar to section 212 of the Bombay Municipal Act.\\nIt makes the land or the building security for the payment of this tax also.'"
            ],
            "application/vnd.google.colaboratory.intrinsic+json": {
              "type": "string"
            }
          },
          "metadata": {},
          "execution_count": 19
        }
      ]
    },
    {
      "cell_type": "code",
      "source": [],
      "metadata": {
        "id": "m9sQ9HNqxDoA"
      },
      "execution_count": null,
      "outputs": []
    }
  ]
}