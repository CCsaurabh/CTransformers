{
  "nbformat": 4,
  "nbformat_minor": 0,
  "metadata": {
    "colab": {
      "provenance": [],
      "gpuType": "T4",
      "authorship_tag": "ABX9TyMBX8NBPgHeXgSIKDqMFo1a"
    },
    "kernelspec": {
      "name": "python3",
      "display_name": "Python 3"
    },
    "language_info": {
      "name": "python"
    },
    "accelerator": "GPU",
    "widgets": {
      "application/vnd.jupyter.widget-state+json": {
        "7460186448f041c883f3fe1fb662cf5a": {
          "model_module": "@jupyter-widgets/controls",
          "model_name": "HBoxModel",
          "model_module_version": "1.5.0",
          "state": {
            "_dom_classes": [],
            "_model_module": "@jupyter-widgets/controls",
            "_model_module_version": "1.5.0",
            "_model_name": "HBoxModel",
            "_view_count": null,
            "_view_module": "@jupyter-widgets/controls",
            "_view_module_version": "1.5.0",
            "_view_name": "HBoxView",
            "box_style": "",
            "children": [
              "IPY_MODEL_bb731f8c6dc141208cf913d50609e4cb",
              "IPY_MODEL_3cdc45d7335e4cea9aae31ed4923e609",
              "IPY_MODEL_4f6708f102f1479b8e9aec7fe1853b8a"
            ],
            "layout": "IPY_MODEL_7a32f70165ef4b6b9c2b43cdff1ccd7f"
          }
        },
        "bb731f8c6dc141208cf913d50609e4cb": {
          "model_module": "@jupyter-widgets/controls",
          "model_name": "HTMLModel",
          "model_module_version": "1.5.0",
          "state": {
            "_dom_classes": [],
            "_model_module": "@jupyter-widgets/controls",
            "_model_module_version": "1.5.0",
            "_model_name": "HTMLModel",
            "_view_count": null,
            "_view_module": "@jupyter-widgets/controls",
            "_view_module_version": "1.5.0",
            "_view_name": "HTMLView",
            "description": "",
            "description_tooltip": null,
            "layout": "IPY_MODEL_cf133b24d9734d1bb5851ea2cd162dc8",
            "placeholder": "​",
            "style": "IPY_MODEL_6dba801b1f344b63878175065e2fadd9",
            "value": "Downloading (…)neration_config.json: 100%"
          }
        },
        "3cdc45d7335e4cea9aae31ed4923e609": {
          "model_module": "@jupyter-widgets/controls",
          "model_name": "FloatProgressModel",
          "model_module_version": "1.5.0",
          "state": {
            "_dom_classes": [],
            "_model_module": "@jupyter-widgets/controls",
            "_model_module_version": "1.5.0",
            "_model_name": "FloatProgressModel",
            "_view_count": null,
            "_view_module": "@jupyter-widgets/controls",
            "_view_module_version": "1.5.0",
            "_view_name": "ProgressView",
            "bar_style": "success",
            "description": "",
            "description_tooltip": null,
            "layout": "IPY_MODEL_7abb7fbd6a664b28b44ad60b1d3c7942",
            "max": 137,
            "min": 0,
            "orientation": "horizontal",
            "style": "IPY_MODEL_7a346a45048a4efa9ab011af89c24c91",
            "value": 137
          }
        },
        "4f6708f102f1479b8e9aec7fe1853b8a": {
          "model_module": "@jupyter-widgets/controls",
          "model_name": "HTMLModel",
          "model_module_version": "1.5.0",
          "state": {
            "_dom_classes": [],
            "_model_module": "@jupyter-widgets/controls",
            "_model_module_version": "1.5.0",
            "_model_name": "HTMLModel",
            "_view_count": null,
            "_view_module": "@jupyter-widgets/controls",
            "_view_module_version": "1.5.0",
            "_view_name": "HTMLView",
            "description": "",
            "description_tooltip": null,
            "layout": "IPY_MODEL_f4056bbddec747c688effea21accdae6",
            "placeholder": "​",
            "style": "IPY_MODEL_81aa16de460e4b80addd9d4bee41907d",
            "value": " 137/137 [00:00&lt;00:00, 7.32kB/s]"
          }
        },
        "7a32f70165ef4b6b9c2b43cdff1ccd7f": {
          "model_module": "@jupyter-widgets/base",
          "model_name": "LayoutModel",
          "model_module_version": "1.2.0",
          "state": {
            "_model_module": "@jupyter-widgets/base",
            "_model_module_version": "1.2.0",
            "_model_name": "LayoutModel",
            "_view_count": null,
            "_view_module": "@jupyter-widgets/base",
            "_view_module_version": "1.2.0",
            "_view_name": "LayoutView",
            "align_content": null,
            "align_items": null,
            "align_self": null,
            "border": null,
            "bottom": null,
            "display": null,
            "flex": null,
            "flex_flow": null,
            "grid_area": null,
            "grid_auto_columns": null,
            "grid_auto_flow": null,
            "grid_auto_rows": null,
            "grid_column": null,
            "grid_gap": null,
            "grid_row": null,
            "grid_template_areas": null,
            "grid_template_columns": null,
            "grid_template_rows": null,
            "height": null,
            "justify_content": null,
            "justify_items": null,
            "left": null,
            "margin": null,
            "max_height": null,
            "max_width": null,
            "min_height": null,
            "min_width": null,
            "object_fit": null,
            "object_position": null,
            "order": null,
            "overflow": null,
            "overflow_x": null,
            "overflow_y": null,
            "padding": null,
            "right": null,
            "top": null,
            "visibility": null,
            "width": null
          }
        },
        "cf133b24d9734d1bb5851ea2cd162dc8": {
          "model_module": "@jupyter-widgets/base",
          "model_name": "LayoutModel",
          "model_module_version": "1.2.0",
          "state": {
            "_model_module": "@jupyter-widgets/base",
            "_model_module_version": "1.2.0",
            "_model_name": "LayoutModel",
            "_view_count": null,
            "_view_module": "@jupyter-widgets/base",
            "_view_module_version": "1.2.0",
            "_view_name": "LayoutView",
            "align_content": null,
            "align_items": null,
            "align_self": null,
            "border": null,
            "bottom": null,
            "display": null,
            "flex": null,
            "flex_flow": null,
            "grid_area": null,
            "grid_auto_columns": null,
            "grid_auto_flow": null,
            "grid_auto_rows": null,
            "grid_column": null,
            "grid_gap": null,
            "grid_row": null,
            "grid_template_areas": null,
            "grid_template_columns": null,
            "grid_template_rows": null,
            "height": null,
            "justify_content": null,
            "justify_items": null,
            "left": null,
            "margin": null,
            "max_height": null,
            "max_width": null,
            "min_height": null,
            "min_width": null,
            "object_fit": null,
            "object_position": null,
            "order": null,
            "overflow": null,
            "overflow_x": null,
            "overflow_y": null,
            "padding": null,
            "right": null,
            "top": null,
            "visibility": null,
            "width": null
          }
        },
        "6dba801b1f344b63878175065e2fadd9": {
          "model_module": "@jupyter-widgets/controls",
          "model_name": "DescriptionStyleModel",
          "model_module_version": "1.5.0",
          "state": {
            "_model_module": "@jupyter-widgets/controls",
            "_model_module_version": "1.5.0",
            "_model_name": "DescriptionStyleModel",
            "_view_count": null,
            "_view_module": "@jupyter-widgets/base",
            "_view_module_version": "1.2.0",
            "_view_name": "StyleView",
            "description_width": ""
          }
        },
        "7abb7fbd6a664b28b44ad60b1d3c7942": {
          "model_module": "@jupyter-widgets/base",
          "model_name": "LayoutModel",
          "model_module_version": "1.2.0",
          "state": {
            "_model_module": "@jupyter-widgets/base",
            "_model_module_version": "1.2.0",
            "_model_name": "LayoutModel",
            "_view_count": null,
            "_view_module": "@jupyter-widgets/base",
            "_view_module_version": "1.2.0",
            "_view_name": "LayoutView",
            "align_content": null,
            "align_items": null,
            "align_self": null,
            "border": null,
            "bottom": null,
            "display": null,
            "flex": null,
            "flex_flow": null,
            "grid_area": null,
            "grid_auto_columns": null,
            "grid_auto_flow": null,
            "grid_auto_rows": null,
            "grid_column": null,
            "grid_gap": null,
            "grid_row": null,
            "grid_template_areas": null,
            "grid_template_columns": null,
            "grid_template_rows": null,
            "height": null,
            "justify_content": null,
            "justify_items": null,
            "left": null,
            "margin": null,
            "max_height": null,
            "max_width": null,
            "min_height": null,
            "min_width": null,
            "object_fit": null,
            "object_position": null,
            "order": null,
            "overflow": null,
            "overflow_x": null,
            "overflow_y": null,
            "padding": null,
            "right": null,
            "top": null,
            "visibility": null,
            "width": null
          }
        },
        "7a346a45048a4efa9ab011af89c24c91": {
          "model_module": "@jupyter-widgets/controls",
          "model_name": "ProgressStyleModel",
          "model_module_version": "1.5.0",
          "state": {
            "_model_module": "@jupyter-widgets/controls",
            "_model_module_version": "1.5.0",
            "_model_name": "ProgressStyleModel",
            "_view_count": null,
            "_view_module": "@jupyter-widgets/base",
            "_view_module_version": "1.2.0",
            "_view_name": "StyleView",
            "bar_color": null,
            "description_width": ""
          }
        },
        "f4056bbddec747c688effea21accdae6": {
          "model_module": "@jupyter-widgets/base",
          "model_name": "LayoutModel",
          "model_module_version": "1.2.0",
          "state": {
            "_model_module": "@jupyter-widgets/base",
            "_model_module_version": "1.2.0",
            "_model_name": "LayoutModel",
            "_view_count": null,
            "_view_module": "@jupyter-widgets/base",
            "_view_module_version": "1.2.0",
            "_view_name": "LayoutView",
            "align_content": null,
            "align_items": null,
            "align_self": null,
            "border": null,
            "bottom": null,
            "display": null,
            "flex": null,
            "flex_flow": null,
            "grid_area": null,
            "grid_auto_columns": null,
            "grid_auto_flow": null,
            "grid_auto_rows": null,
            "grid_column": null,
            "grid_gap": null,
            "grid_row": null,
            "grid_template_areas": null,
            "grid_template_columns": null,
            "grid_template_rows": null,
            "height": null,
            "justify_content": null,
            "justify_items": null,
            "left": null,
            "margin": null,
            "max_height": null,
            "max_width": null,
            "min_height": null,
            "min_width": null,
            "object_fit": null,
            "object_position": null,
            "order": null,
            "overflow": null,
            "overflow_x": null,
            "overflow_y": null,
            "padding": null,
            "right": null,
            "top": null,
            "visibility": null,
            "width": null
          }
        },
        "81aa16de460e4b80addd9d4bee41907d": {
          "model_module": "@jupyter-widgets/controls",
          "model_name": "DescriptionStyleModel",
          "model_module_version": "1.5.0",
          "state": {
            "_model_module": "@jupyter-widgets/controls",
            "_model_module_version": "1.5.0",
            "_model_name": "DescriptionStyleModel",
            "_view_count": null,
            "_view_module": "@jupyter-widgets/base",
            "_view_module_version": "1.2.0",
            "_view_name": "StyleView",
            "description_width": ""
          }
        }
      }
    }
  },
  "cells": [
    {
      "cell_type": "code",
      "source": [
        "!pip install accelerate"
      ],
      "metadata": {
        "id": "NTsxWCCZNN_a"
      },
      "execution_count": null,
      "outputs": []
    },
    {
      "cell_type": "code",
      "execution_count": null,
      "metadata": {
        "id": "u3tOaglhMsNW"
      },
      "outputs": [],
      "source": [
        "!pip install transformers"
      ]
    },
    {
      "cell_type": "code",
      "source": [
        "!pip install huggingface-hub"
      ],
      "metadata": {
        "id": "Qwztpp2_M0Fr"
      },
      "execution_count": null,
      "outputs": []
    },
    {
      "cell_type": "code",
      "source": [
        "!huggingface-hub cli login"
      ],
      "metadata": {
        "colab": {
          "base_uri": "https://localhost:8080/"
        },
        "id": "pg4qdG7wM_YZ",
        "outputId": "7b74af2a-efb7-40bb-8503-ec00ed569cec"
      },
      "execution_count": 3,
      "outputs": [
        {
          "output_type": "stream",
          "name": "stdout",
          "text": [
            "/bin/bash: line 1: huggingface-hub: command not found\n"
          ]
        }
      ]
    },
    {
      "cell_type": "code",
      "source": [
        "!pip install autoawq"
      ],
      "metadata": {
        "id": "5VECHNLnNXeL"
      },
      "execution_count": null,
      "outputs": []
    },
    {
      "cell_type": "code",
      "source": [
        "!pip3 install https://github.com/casper-hansen/AutoAWQ/releases/download/v0.1.6/autoawq-0.1.6+cu118-cp310-cp310-linux_x86_64.whl\n"
      ],
      "metadata": {
        "id": "kZzfADfgOdY-"
      },
      "execution_count": null,
      "outputs": []
    },
    {
      "cell_type": "code",
      "source": [
        "from transformers import AutoModelForCausalLM, AutoTokenizer, TextStreamer\n",
        "\n",
        "model_name_or_path = \"TheBloke/Synatra-7B-v0.3-RP-AWQ\"\n",
        "\n",
        "tokenizer = AutoTokenizer.from_pretrained(model_name_or_path)\n",
        "model = AutoModelForCausalLM.from_pretrained(\n",
        "    model_name_or_path,\n",
        "    low_cpu_mem_usage=True,\n",
        "    device_map=\"cuda:0\"\n",
        ")\n"
      ],
      "metadata": {
        "colab": {
          "base_uri": "https://localhost:8080/",
          "height": 66,
          "referenced_widgets": [
            "7460186448f041c883f3fe1fb662cf5a",
            "bb731f8c6dc141208cf913d50609e4cb",
            "3cdc45d7335e4cea9aae31ed4923e609",
            "4f6708f102f1479b8e9aec7fe1853b8a",
            "7a32f70165ef4b6b9c2b43cdff1ccd7f",
            "cf133b24d9734d1bb5851ea2cd162dc8",
            "6dba801b1f344b63878175065e2fadd9",
            "7abb7fbd6a664b28b44ad60b1d3c7942",
            "7a346a45048a4efa9ab011af89c24c91",
            "f4056bbddec747c688effea21accdae6",
            "81aa16de460e4b80addd9d4bee41907d"
          ]
        },
        "id": "TN0ogAnqM28i",
        "outputId": "ff59f8dc-b080-4815-d4ef-c4648d6f2536"
      },
      "execution_count": 3,
      "outputs": [
        {
          "output_type": "stream",
          "name": "stderr",
          "text": [
            "Special tokens have been added in the vocabulary, make sure the associated word embeddings are fine-tuned or trained.\n"
          ]
        },
        {
          "output_type": "display_data",
          "data": {
            "text/plain": [
              "Downloading (…)neration_config.json:   0%|          | 0.00/137 [00:00<?, ?B/s]"
            ],
            "application/vnd.jupyter.widget-view+json": {
              "version_major": 2,
              "version_minor": 0,
              "model_id": "7460186448f041c883f3fe1fb662cf5a"
            }
          },
          "metadata": {}
        }
      ]
    },
    {
      "cell_type": "code",
      "source": [
        "model.generation_config"
      ],
      "metadata": {
        "colab": {
          "base_uri": "https://localhost:8080/"
        },
        "id": "qD9pJeJZQRr9",
        "outputId": "bdf3bc42-dbfa-4932-9b4e-2c0a3ebf40fc"
      },
      "execution_count": 6,
      "outputs": [
        {
          "output_type": "execute_result",
          "data": {
            "text/plain": [
              "GenerationConfig {\n",
              "  \"bos_token_id\": 1,\n",
              "  \"eos_token_id\": 32000,\n",
              "  \"pad_token_id\": 0\n",
              "}"
            ]
          },
          "metadata": {},
          "execution_count": 6
        }
      ]
    },
    {
      "cell_type": "code",
      "source": [
        "prompt = \"Tell me about AI\"\n",
        "prompt_template=f'''Below is an instruction that describes a task. Write a response that appropriately completes the request.\n",
        "\n",
        "### Instruction:\n",
        "{prompt}\n",
        "\n",
        "### Response:\n",
        "'''\n",
        "\n",
        "print(\"\\n\\n*** Generate:\")\n",
        "\n",
        "input_ids = tokenizer(prompt_template, return_tensors='pt').input_ids.cuda()\n",
        "# output = model.generate(inputs=input_ids, temperature=0.7, do_sample=True, top_p=0.95, top_k=40, max_new_tokens=512)\n",
        "# print(tokenizer.decode(output[0]))"
      ],
      "metadata": {
        "id": "50r_uFUsQCHd"
      },
      "execution_count": null,
      "outputs": []
    },
    {
      "cell_type": "code",
      "source": [
        "from transformers import AutoModelForSeq2SeqLM, AutoTokenizer, GenerationConfig\n",
        "translation_generation_config = GenerationConfig(\n",
        "temperature=0.7, do_sample=True, top_p=0.95, top_k=40, max_new_tokens=512\n",
        ")\n",
        "\n",
        "# Tip: add `push_to_hub=True` to push to the Hub\n",
        "translation_generation_config.save_pretrained(\"/tmp\", \"translation_generation_config.json\")\n",
        "\n",
        "# You could then use the named generation config file to parameterize generation"
      ],
      "metadata": {
        "id": "zvy7Sm0GQtDM"
      },
      "execution_count": 7,
      "outputs": []
    },
    {
      "cell_type": "code",
      "source": [
        "generation_config = GenerationConfig.from_pretrained(\"/tmp\", \"translation_generation_config.json\")"
      ],
      "metadata": {
        "id": "lLy39F28QzIR"
      },
      "execution_count": 8,
      "outputs": []
    },
    {
      "cell_type": "code",
      "source": [
        "output = model.generate(inputs=input_ids,generation_config=generation_config)\n",
        "print(tokenizer.decode(output[0]))"
      ],
      "metadata": {
        "colab": {
          "base_uri": "https://localhost:8080/"
        },
        "id": "28dIN3kVQ3Yo",
        "outputId": "3e64fadc-c16c-442d-b209-47c41e6ebfed"
      },
      "execution_count": 9,
      "outputs": [
        {
          "output_type": "stream",
          "name": "stdout",
          "text": [
            "<s> Below is an instruction that describes a task. Write a response that appropriately completes the request.\n",
            "\n",
            "### Instruction:\n",
            "Tell me about AI\n",
            "\n",
            "### Response:\n",
            " AI stands for Artificial Intelligence. It is a type of computer software that can think and learn on its own. It uses algorithms to process information and make decisions. AI can perform tasks that normally require human intelligence, such as recognizing images, understanding natural language, and even making predictions. It is used in many different applications, including robotics, healthcare, finance, and entertainment. Some examples of AI include Siri, Alexa, and Google Assistant. AI has the potential to revolutionize many industries and improve our lives in countless ways.<|im_end|>\n"
          ]
        }
      ]
    },
    {
      "cell_type": "markdown",
      "source": [
        "### Evaluation"
      ],
      "metadata": {
        "id": "FGytkn69RPzH"
      }
    },
    {
      "cell_type": "code",
      "source": [
        "sample = \"An abstract composition where swirls of cosmic dust and stars form into the shape of a majestic phoenix, set against the deep blues and purples of space, symbolizing rebirth and the endless possibilities of the universe.\"\n",
        "prompt = f'You are an artistic prompt writer of images , create image prompt  like the attached sample {sample}\\n'\n",
        "prompt_template=f'''Below is an instruction that describes a task. Write a response that appropriately completes the request.\n",
        "\n",
        "### Instruction:\n",
        "{prompt}\n",
        "\n",
        "### Response:\n",
        "'''\n",
        "\n",
        "print(\"\\n\\n*** Generate:\")\n",
        "\n",
        "input_ids = tokenizer(prompt_template, return_tensors='pt').input_ids.cuda()\n",
        "output = model.generate(inputs=input_ids,generation_config=generation_config)\n",
        "print(tokenizer.decode(output[0]))\n"
      ],
      "metadata": {
        "colab": {
          "base_uri": "https://localhost:8080/"
        },
        "id": "4DaTmulcQ-fY",
        "outputId": "b7263073-fa8f-439e-84e1-08b2ae93bb08"
      },
      "execution_count": 12,
      "outputs": [
        {
          "output_type": "stream",
          "name": "stdout",
          "text": [
            "\n",
            "\n",
            "*** Generate:\n",
            "<s> Below is an instruction that describes a task. Write a response that appropriately completes the request.\n",
            "\n",
            "### Instruction:\n",
            "You are an artistic prompt writer of images , create image prompt  like the attached sample An abstract composition where swirls of cosmic dust and stars form into the shape of a majestic phoenix, set against the deep blues and purples of space, symbolizing rebirth and the endless possibilities of the universe.\n",
            "\n",
            "\n",
            "### Response:\n",
            " \"The Cosmic Phoenix\"\n",
            "\n",
            "In the boundless expanse of the universe, a majestic phoenix emerges from the swirling clouds of cosmic dust and stars. Its wings outstretched, wingspan reaching towards infinity, it soars effortlessly through the vast emptiness, its golden feathers shimmering with the light of distant galaxies. Its eyes blaze with a fierce intensity, as if it's searching for something lost or forgotten. Its beak is open wide, ready to sing a song of rebirth and renewal. The phoenix's head tilts upward, its crest of feathers rising majestically above the starry background. The entire composition is bathed in a soft, ethereal glow, emphasizing the ethereal beauty of the celestial bird. The colors of the painting are rich and vibrant, contrasting brilliantly against the dark background of space. The overall effect is one of serene tranquility mixed with an underlying sense of powerful energy and vitality.<|im_end|>\n"
          ]
        }
      ]
    },
    {
      "cell_type": "code",
      "source": [
        "def print_result(prompt):\n",
        "  prompt_template=f'''Below is an instruction that describes a task. Write a response that appropriately completes the request.\n",
        "\n",
        "  ### Instruction:\n",
        "  {prompt}\n",
        "\n",
        "  ### Response:\n",
        "  '''\n",
        "\n",
        "  print(\"\\n\\n*** Generate:\")\n",
        "\n",
        "  input_ids = tokenizer(prompt_template, return_tensors='pt').input_ids.cuda()\n",
        "  output = model.generate(inputs=input_ids,generation_config=generation_config)\n",
        "  print(tokenizer.decode(output[0]))\n",
        "\n",
        "\n"
      ],
      "metadata": {
        "id": "ntpu7iMgRdyp"
      },
      "execution_count": 13,
      "outputs": []
    },
    {
      "cell_type": "code",
      "source": [
        "prompt = f'You are a business critic, give me 5 competitor analysis of my business plan of selling AI generated images \\n'\n",
        "print_result(prompt)"
      ],
      "metadata": {
        "colab": {
          "base_uri": "https://localhost:8080/"
        },
        "id": "bTYy3bJ6SDIg",
        "outputId": "4a063c5b-f5a7-4b65-f564-132f74dd3acb"
      },
      "execution_count": 14,
      "outputs": [
        {
          "output_type": "stream",
          "name": "stdout",
          "text": [
            "\n",
            "\n",
            "*** Generate:\n",
            "<s> Below is an instruction that describes a task. Write a response that appropriately completes the request.\n",
            "\n",
            "  ### Instruction:\n",
            "  You are a business critic, give me 5 competitor analysis of my business plan of selling AI generated images \n",
            "\n",
            "\n",
            "  ### Response:\n",
            "  1. DALL-E: DALL-E is a powerful AI image generator that can create realistic images from text descriptions. It offers a variety of styles and resolutions, making it a strong competitor in the AI image generation market.\n",
            "\n",
            "2. Midjourney: Midjourney is another AI image generator that specializes in creating detailed and high-quality images from text input. It offers customizable settings for image generation, allowing users to fine-tune the output to their specific needs.\n",
            "\n",
            "3. StableDiffusion: StableDiffusion is an open-source AI model that can generate realistic images from text prompts. It uses a diffusion-based approach to produce high-quality images with minimal noise and artifacts.\n",
            "\n",
            "4. OpenAI: OpenAI is a non-profit AI research lab that has developed a number of AI models, including DALL-E 2. Their AI models are known for their ability to create realistic images from text descriptions.\n",
            "\n",
            "5. NVIDIA: NVIDIA has also developed an AI image generation tool called StyleGAN2. It uses a combination of generative adversarial networks (GANs) and convolutional neural networks (CNNs) to create high-quality images from text prompts.<|im_end|>\n"
          ]
        }
      ]
    },
    {
      "cell_type": "markdown",
      "source": [
        "#### Experiments with DataFrame"
      ],
      "metadata": {
        "id": "vlTC9wiuSQ0c"
      }
    },
    {
      "cell_type": "code",
      "source": [
        "import pandas  as pd\n",
        "\n",
        "df = pd.DataFrame()\n",
        "df['price'] = [1,2,3,4,5,6,7]\n",
        "df['SnP'] = [500,1300,1200,600,800,200,100]\n",
        "df.head()"
      ],
      "metadata": {
        "colab": {
          "base_uri": "https://localhost:8080/",
          "height": 206
        },
        "id": "j7LUl2QMSE0u",
        "outputId": "a168260e-9210-450e-fa57-6cc568977eb8"
      },
      "execution_count": 15,
      "outputs": [
        {
          "output_type": "execute_result",
          "data": {
            "text/plain": [
              "   price   SnP\n",
              "0      1   500\n",
              "1      2  1300\n",
              "2      3  1200\n",
              "3      4   600\n",
              "4      5   800"
            ],
            "text/html": [
              "\n",
              "  <div id=\"df-8a746d49-8eaf-48e3-9229-6ab14899dd80\" class=\"colab-df-container\">\n",
              "    <div>\n",
              "<style scoped>\n",
              "    .dataframe tbody tr th:only-of-type {\n",
              "        vertical-align: middle;\n",
              "    }\n",
              "\n",
              "    .dataframe tbody tr th {\n",
              "        vertical-align: top;\n",
              "    }\n",
              "\n",
              "    .dataframe thead th {\n",
              "        text-align: right;\n",
              "    }\n",
              "</style>\n",
              "<table border=\"1\" class=\"dataframe\">\n",
              "  <thead>\n",
              "    <tr style=\"text-align: right;\">\n",
              "      <th></th>\n",
              "      <th>price</th>\n",
              "      <th>SnP</th>\n",
              "    </tr>\n",
              "  </thead>\n",
              "  <tbody>\n",
              "    <tr>\n",
              "      <th>0</th>\n",
              "      <td>1</td>\n",
              "      <td>500</td>\n",
              "    </tr>\n",
              "    <tr>\n",
              "      <th>1</th>\n",
              "      <td>2</td>\n",
              "      <td>1300</td>\n",
              "    </tr>\n",
              "    <tr>\n",
              "      <th>2</th>\n",
              "      <td>3</td>\n",
              "      <td>1200</td>\n",
              "    </tr>\n",
              "    <tr>\n",
              "      <th>3</th>\n",
              "      <td>4</td>\n",
              "      <td>600</td>\n",
              "    </tr>\n",
              "    <tr>\n",
              "      <th>4</th>\n",
              "      <td>5</td>\n",
              "      <td>800</td>\n",
              "    </tr>\n",
              "  </tbody>\n",
              "</table>\n",
              "</div>\n",
              "    <div class=\"colab-df-buttons\">\n",
              "\n",
              "  <div class=\"colab-df-container\">\n",
              "    <button class=\"colab-df-convert\" onclick=\"convertToInteractive('df-8a746d49-8eaf-48e3-9229-6ab14899dd80')\"\n",
              "            title=\"Convert this dataframe to an interactive table.\"\n",
              "            style=\"display:none;\">\n",
              "\n",
              "  <svg xmlns=\"http://www.w3.org/2000/svg\" height=\"24px\" viewBox=\"0 -960 960 960\">\n",
              "    <path d=\"M120-120v-720h720v720H120Zm60-500h600v-160H180v160Zm220 220h160v-160H400v160Zm0 220h160v-160H400v160ZM180-400h160v-160H180v160Zm440 0h160v-160H620v160ZM180-180h160v-160H180v160Zm440 0h160v-160H620v160Z\"/>\n",
              "  </svg>\n",
              "    </button>\n",
              "\n",
              "  <style>\n",
              "    .colab-df-container {\n",
              "      display:flex;\n",
              "      gap: 12px;\n",
              "    }\n",
              "\n",
              "    .colab-df-convert {\n",
              "      background-color: #E8F0FE;\n",
              "      border: none;\n",
              "      border-radius: 50%;\n",
              "      cursor: pointer;\n",
              "      display: none;\n",
              "      fill: #1967D2;\n",
              "      height: 32px;\n",
              "      padding: 0 0 0 0;\n",
              "      width: 32px;\n",
              "    }\n",
              "\n",
              "    .colab-df-convert:hover {\n",
              "      background-color: #E2EBFA;\n",
              "      box-shadow: 0px 1px 2px rgba(60, 64, 67, 0.3), 0px 1px 3px 1px rgba(60, 64, 67, 0.15);\n",
              "      fill: #174EA6;\n",
              "    }\n",
              "\n",
              "    .colab-df-buttons div {\n",
              "      margin-bottom: 4px;\n",
              "    }\n",
              "\n",
              "    [theme=dark] .colab-df-convert {\n",
              "      background-color: #3B4455;\n",
              "      fill: #D2E3FC;\n",
              "    }\n",
              "\n",
              "    [theme=dark] .colab-df-convert:hover {\n",
              "      background-color: #434B5C;\n",
              "      box-shadow: 0px 1px 3px 1px rgba(0, 0, 0, 0.15);\n",
              "      filter: drop-shadow(0px 1px 2px rgba(0, 0, 0, 0.3));\n",
              "      fill: #FFFFFF;\n",
              "    }\n",
              "  </style>\n",
              "\n",
              "    <script>\n",
              "      const buttonEl =\n",
              "        document.querySelector('#df-8a746d49-8eaf-48e3-9229-6ab14899dd80 button.colab-df-convert');\n",
              "      buttonEl.style.display =\n",
              "        google.colab.kernel.accessAllowed ? 'block' : 'none';\n",
              "\n",
              "      async function convertToInteractive(key) {\n",
              "        const element = document.querySelector('#df-8a746d49-8eaf-48e3-9229-6ab14899dd80');\n",
              "        const dataTable =\n",
              "          await google.colab.kernel.invokeFunction('convertToInteractive',\n",
              "                                                    [key], {});\n",
              "        if (!dataTable) return;\n",
              "\n",
              "        const docLinkHtml = 'Like what you see? Visit the ' +\n",
              "          '<a target=\"_blank\" href=https://colab.research.google.com/notebooks/data_table.ipynb>data table notebook</a>'\n",
              "          + ' to learn more about interactive tables.';\n",
              "        element.innerHTML = '';\n",
              "        dataTable['output_type'] = 'display_data';\n",
              "        await google.colab.output.renderOutput(dataTable, element);\n",
              "        const docLink = document.createElement('div');\n",
              "        docLink.innerHTML = docLinkHtml;\n",
              "        element.appendChild(docLink);\n",
              "      }\n",
              "    </script>\n",
              "  </div>\n",
              "\n",
              "\n",
              "<div id=\"df-d2b0d18c-893b-4c64-bfc5-2601d8e7f2b1\">\n",
              "  <button class=\"colab-df-quickchart\" onclick=\"quickchart('df-d2b0d18c-893b-4c64-bfc5-2601d8e7f2b1')\"\n",
              "            title=\"Suggest charts\"\n",
              "            style=\"display:none;\">\n",
              "\n",
              "<svg xmlns=\"http://www.w3.org/2000/svg\" height=\"24px\"viewBox=\"0 0 24 24\"\n",
              "     width=\"24px\">\n",
              "    <g>\n",
              "        <path d=\"M19 3H5c-1.1 0-2 .9-2 2v14c0 1.1.9 2 2 2h14c1.1 0 2-.9 2-2V5c0-1.1-.9-2-2-2zM9 17H7v-7h2v7zm4 0h-2V7h2v10zm4 0h-2v-4h2v4z\"/>\n",
              "    </g>\n",
              "</svg>\n",
              "  </button>\n",
              "\n",
              "<style>\n",
              "  .colab-df-quickchart {\n",
              "      --bg-color: #E8F0FE;\n",
              "      --fill-color: #1967D2;\n",
              "      --hover-bg-color: #E2EBFA;\n",
              "      --hover-fill-color: #174EA6;\n",
              "      --disabled-fill-color: #AAA;\n",
              "      --disabled-bg-color: #DDD;\n",
              "  }\n",
              "\n",
              "  [theme=dark] .colab-df-quickchart {\n",
              "      --bg-color: #3B4455;\n",
              "      --fill-color: #D2E3FC;\n",
              "      --hover-bg-color: #434B5C;\n",
              "      --hover-fill-color: #FFFFFF;\n",
              "      --disabled-bg-color: #3B4455;\n",
              "      --disabled-fill-color: #666;\n",
              "  }\n",
              "\n",
              "  .colab-df-quickchart {\n",
              "    background-color: var(--bg-color);\n",
              "    border: none;\n",
              "    border-radius: 50%;\n",
              "    cursor: pointer;\n",
              "    display: none;\n",
              "    fill: var(--fill-color);\n",
              "    height: 32px;\n",
              "    padding: 0;\n",
              "    width: 32px;\n",
              "  }\n",
              "\n",
              "  .colab-df-quickchart:hover {\n",
              "    background-color: var(--hover-bg-color);\n",
              "    box-shadow: 0 1px 2px rgba(60, 64, 67, 0.3), 0 1px 3px 1px rgba(60, 64, 67, 0.15);\n",
              "    fill: var(--button-hover-fill-color);\n",
              "  }\n",
              "\n",
              "  .colab-df-quickchart-complete:disabled,\n",
              "  .colab-df-quickchart-complete:disabled:hover {\n",
              "    background-color: var(--disabled-bg-color);\n",
              "    fill: var(--disabled-fill-color);\n",
              "    box-shadow: none;\n",
              "  }\n",
              "\n",
              "  .colab-df-spinner {\n",
              "    border: 2px solid var(--fill-color);\n",
              "    border-color: transparent;\n",
              "    border-bottom-color: var(--fill-color);\n",
              "    animation:\n",
              "      spin 1s steps(1) infinite;\n",
              "  }\n",
              "\n",
              "  @keyframes spin {\n",
              "    0% {\n",
              "      border-color: transparent;\n",
              "      border-bottom-color: var(--fill-color);\n",
              "      border-left-color: var(--fill-color);\n",
              "    }\n",
              "    20% {\n",
              "      border-color: transparent;\n",
              "      border-left-color: var(--fill-color);\n",
              "      border-top-color: var(--fill-color);\n",
              "    }\n",
              "    30% {\n",
              "      border-color: transparent;\n",
              "      border-left-color: var(--fill-color);\n",
              "      border-top-color: var(--fill-color);\n",
              "      border-right-color: var(--fill-color);\n",
              "    }\n",
              "    40% {\n",
              "      border-color: transparent;\n",
              "      border-right-color: var(--fill-color);\n",
              "      border-top-color: var(--fill-color);\n",
              "    }\n",
              "    60% {\n",
              "      border-color: transparent;\n",
              "      border-right-color: var(--fill-color);\n",
              "    }\n",
              "    80% {\n",
              "      border-color: transparent;\n",
              "      border-right-color: var(--fill-color);\n",
              "      border-bottom-color: var(--fill-color);\n",
              "    }\n",
              "    90% {\n",
              "      border-color: transparent;\n",
              "      border-bottom-color: var(--fill-color);\n",
              "    }\n",
              "  }\n",
              "</style>\n",
              "\n",
              "  <script>\n",
              "    async function quickchart(key) {\n",
              "      const quickchartButtonEl =\n",
              "        document.querySelector('#' + key + ' button');\n",
              "      quickchartButtonEl.disabled = true;  // To prevent multiple clicks.\n",
              "      quickchartButtonEl.classList.add('colab-df-spinner');\n",
              "      try {\n",
              "        const charts = await google.colab.kernel.invokeFunction(\n",
              "            'suggestCharts', [key], {});\n",
              "      } catch (error) {\n",
              "        console.error('Error during call to suggestCharts:', error);\n",
              "      }\n",
              "      quickchartButtonEl.classList.remove('colab-df-spinner');\n",
              "      quickchartButtonEl.classList.add('colab-df-quickchart-complete');\n",
              "    }\n",
              "    (() => {\n",
              "      let quickchartButtonEl =\n",
              "        document.querySelector('#df-d2b0d18c-893b-4c64-bfc5-2601d8e7f2b1 button');\n",
              "      quickchartButtonEl.style.display =\n",
              "        google.colab.kernel.accessAllowed ? 'block' : 'none';\n",
              "    })();\n",
              "  </script>\n",
              "</div>\n",
              "    </div>\n",
              "  </div>\n"
            ]
          },
          "metadata": {},
          "execution_count": 15
        }
      ]
    },
    {
      "cell_type": "code",
      "source": [
        "price = 4\n",
        "prompt = f'''Take the atatched dataframe {df} , And check what is value of Snp when price is {price}. Dont return anything else. \\n\n",
        "\n",
        "'''\n",
        "\n",
        "print_result(prompt)"
      ],
      "metadata": {
        "colab": {
          "base_uri": "https://localhost:8080/"
        },
        "id": "tU5mbWASSUq_",
        "outputId": "947adb67-681a-4855-ae3c-7e4e84fc997c"
      },
      "execution_count": 16,
      "outputs": [
        {
          "output_type": "stream",
          "name": "stdout",
          "text": [
            "\n",
            "\n",
            "*** Generate:\n",
            "<s> Below is an instruction that describes a task. Write a response that appropriately completes the request.\n",
            "\n",
            "  ### Instruction:\n",
            "  Take the atatched dataframe    price   SnP\n",
            "0      1   500\n",
            "1      2  1300\n",
            "2      3  1200\n",
            "3      4   600\n",
            "4      5   800\n",
            "5      6   200\n",
            "6      7   100 , And check what is value of Snp when price is 4. Dont return anything else. \n",
            "\n",
            "\n",
            "\n",
            "\n",
            "  ### Response:\n",
            "  2.5<|im_end|>\n"
          ]
        }
      ]
    },
    {
      "cell_type": "code",
      "source": [
        "price = 5\n",
        "prompt = f'''Take the attched dataframe \\n {df} , And check what is value of Snp when price is {price}. Dont return anything else. \\n\n",
        "\n",
        "'''\n",
        "\n",
        "print_result(prompt)"
      ],
      "metadata": {
        "colab": {
          "base_uri": "https://localhost:8080/"
        },
        "id": "iYf3RKiOSZZR",
        "outputId": "a6cbb2ab-04b3-4ae1-be76-7f1a38c6caf3"
      },
      "execution_count": 19,
      "outputs": [
        {
          "output_type": "stream",
          "name": "stdout",
          "text": [
            "\n",
            "\n",
            "*** Generate:\n",
            "<s> Below is an instruction that describes a task. Write a response that appropriately completes the request.\n",
            "\n",
            "  ### Instruction:\n",
            "  Take the attched dataframe \n",
            "    price   SnP\n",
            "0      1   500\n",
            "1      2  1300\n",
            "2      3  1200\n",
            "3      4   600\n",
            "4      5   800\n",
            "5      6   200\n",
            "6      7   100 , And check what is value of Snp when price is 5. Dont return anything else. \n",
            "\n",
            "\n",
            "\n",
            "\n",
            "  ### Response:\n",
            "  100<|im_end|>\n"
          ]
        }
      ]
    },
    {
      "cell_type": "markdown",
      "source": [
        "\n",
        "#### Experiments to write in Poetic Style"
      ],
      "metadata": {
        "id": "cdqNyYXDS5_G"
      }
    },
    {
      "cell_type": "code",
      "source": [
        "prompt = f'You are a the famous writer Jim Rohn, give me 5 ideas to improve my wealth \\n'\n",
        "print_result(prompt)"
      ],
      "metadata": {
        "colab": {
          "base_uri": "https://localhost:8080/"
        },
        "id": "inJDKuBTSi-j",
        "outputId": "118b90cc-144f-4709-d5b5-d5bdd4655dc0"
      },
      "execution_count": 20,
      "outputs": [
        {
          "output_type": "stream",
          "name": "stdout",
          "text": [
            "\n",
            "\n",
            "*** Generate:\n",
            "<s> Below is an instruction that describes a task. Write a response that appropriately completes the request.\n",
            "\n",
            "  ### Instruction:\n",
            "  You are a the famous writer Jim Rohn, give me 5 ideas to improve my wealth \n",
            "\n",
            "\n",
            "  ### Response:\n",
            "  1. Develop a strong work ethic: Success in wealth-building requires consistent effort and discipline. Set clear goals, prioritize tasks, and strive for continuous improvement.\n",
            "\n",
            "2. Learn from successful people: Surround yourself with individuals who have achieved financial success and learn from their experiences and strategies. Seek out mentorship and guidance.\n",
            "\n",
            "3. Build multiple streams of income: Diversify your revenue streams by investing in different assets, businesses, or sources of income. This reduces risk and provides stability during economic downturns.\n",
            "\n",
            "4. Manage your expenses carefully: Create a budget and track your spending habits closely. Cut unnecessary expenses and redirect funds towards savings and investments.\n",
            "\n",
            "5. Invest in yourself: Invest in your personal development by acquiring new skills, education, or certifications that increase your value to others and open up new opportunities for financial growth.<|im_end|>\n"
          ]
        }
      ]
    },
    {
      "cell_type": "markdown",
      "source": [
        "#### Codeing Questions"
      ],
      "metadata": {
        "id": "afd2ESz1TRjA"
      }
    },
    {
      "cell_type": "code",
      "source": [
        "\n",
        "prompt = f''' Write me python code how to add two numbers\\n'''\n",
        "print_result(prompt)"
      ],
      "metadata": {
        "colab": {
          "base_uri": "https://localhost:8080/"
        },
        "id": "IftjmTU5TGOB",
        "outputId": "2e9e64a1-e9e2-4e55-af1f-155a8e9704e8"
      },
      "execution_count": 21,
      "outputs": [
        {
          "output_type": "stream",
          "name": "stdout",
          "text": [
            "\n",
            "\n",
            "*** Generate:\n",
            "<s> Below is an instruction that describes a task. Write a response that appropriately completes the request.\n",
            "\n",
            "  ### Instruction:\n",
            "   Write me python code how to add two numbers\n",
            "\n",
            "\n",
            "  ### Response:\n",
            "   To add two numbers in Python, you can use the built-in \"+\" operator. Here's a simple example:\n",
            "\n",
            "```python\n",
            "# Define two numbers\n",
            "num1 = 5\n",
            "num2 = 10\n",
            "\n",
            "# Add the numbers\n",
            "result = num1 + num2\n",
            "\n",
            "# Print the result\n",
            "print(\"Result:\", result)\n",
            "```\n",
            "\n",
            "This code will output \"Result: 15\". You can replace \"num1\" and \"num2\" with any other numbers you want to add together.<|im_end|>\n"
          ]
        }
      ]
    },
    {
      "cell_type": "code",
      "source": [
        "\n",
        "prompt = f''' Write code to compare embeddings of 5 items and show which are nearest or close in meaning \\n\n",
        "'''\n",
        "print_result(prompt)"
      ],
      "metadata": {
        "colab": {
          "base_uri": "https://localhost:8080/"
        },
        "id": "VXxXFNutTWku",
        "outputId": "9161ecd5-dc97-4f14-ba5b-7d14767381cf"
      },
      "execution_count": 22,
      "outputs": [
        {
          "output_type": "stream",
          "name": "stdout",
          "text": [
            "\n",
            "\n",
            "*** Generate:\n",
            "<s> Below is an instruction that describes a task. Write a response that appropriately completes the request.\n",
            "\n",
            "  ### Instruction:\n",
            "   Write code to compare embeddings of 5 items and show which are nearest or close in meaning \n",
            "\n",
            "\n",
            "\n",
            "  ### Response:\n",
            "   To compare the embeddings of 5 items and show which are nearest or close in meaning, we can use the cosine similarity function. The cosine similarity measures the cosine of the angle between two vectors, which ranges from -1 to 1. A value of 1 indicates that the two vectors are aligned and have similar meanings, while a value of -1 indicates they have opposite meanings. Here's a step-by-step guide on how to do this in Python using the scikit-learn library:\n",
            "\n",
            "1. Import the necessary libraries:\n",
            "```python\n",
            "import numpy as np\n",
            "import matplotlib.pyplot as plt\n",
            "import seaborn as sns\n",
            "from sklearn.metrics import pairwise_distances\n",
            "```\n",
            "\n",
            "2. Load the embedding data into a NumPy array:\n",
            "```python\n",
            "embs = np.load('embeddings.npy')\n",
            "```\n",
            "\n",
            "3. Calculate the pairwise distances between all embeddings using the pairwise_distances function:\n",
            "```python\n",
            "distances = pairwise_distances(embs)\n",
            "```\n",
            "\n",
            "4. Use the cosine similarity function to calculate the similarities between all pairs of embeddings:\n",
            "```python\n",
            "similarities = np.exp(- distances)\n",
            "```\n",
            "\n",
            "5. Plot the similarity matrix using the heatmap function from seaborn:\n",
            "```python\n",
            "sns.heatmap(similarities, cmap=\"coolwarm\", annot=True, fmt=\".2f\")\n",
            "```\n",
            "\n",
            "6. Add a title and axis labels to the plot:\n",
            "```python\n",
            "plt.title(\"Embedding Similarity Matrix\")\n",
            "plt.xlabel(\"Item 1\")\n",
            "plt.ylabel(\"Item 2\")\n",
            "```\n",
            "\n",
            "7. Display the plot:\n",
            "```python\n",
            "plt.show()\n",
            "```\n",
            "\n",
            "The resulting heatmap will show the similarity between each pair of items, with darker colors indicating higher similarity. You can use the values in the matrix to determine which pairs of items are closest in meaning.<|im_end|>\n"
          ]
        }
      ]
    },
    {
      "cell_type": "markdown",
      "source": [
        "#### Multiple Results Evaluation"
      ],
      "metadata": {
        "id": "8o2g2DcUTr01"
      }
    },
    {
      "cell_type": "code",
      "source": [
        "sample = \"An abstract composition where swirls of cosmic dust and stars form into the shape of a majestic phoenix, set against the deep blues and purples of space, symbolizing rebirth and the endless possibilities of the universe.\"\n",
        "prompt = f'You are an artistic prompt writer of images , create 2 image prompt  like the attached sample {sample}\\n'\n",
        "print_result(prompt)"
      ],
      "metadata": {
        "colab": {
          "base_uri": "https://localhost:8080/"
        },
        "id": "bbg4ydfCTdwb",
        "outputId": "f361862e-be9c-418c-d193-9de625158e98"
      },
      "execution_count": 24,
      "outputs": [
        {
          "output_type": "stream",
          "name": "stdout",
          "text": [
            "\n",
            "\n",
            "*** Generate:\n",
            "<s> Below is an instruction that describes a task. Write a response that appropriately completes the request.\n",
            "\n",
            "  ### Instruction:\n",
            "  You are an artistic prompt writer of images , create 2 image prompt  like the attached sample An abstract composition where swirls of cosmic dust and stars form into the shape of a majestic phoenix, set against the deep blues and purples of space, symbolizing rebirth and the endless possibilities of the universe.\n",
            "\n",
            "\n",
            "  ### Response:\n",
            "  1. An ethereal phoenix rising from the ashes of a supernova, its fiery wings spreading out like celestial tendrils reaching towards the stars, illuminating the dark expanse of space with its radiant glow.\n",
            "\n",
            "2. A serene phoenix perched gracefully atop a nebula cloud, its feathers softly stirring the cosmic gas around it, creating intricate patterns of light and shadow that dance and twirl like cosmic fireflies.<|im_end|>\n"
          ]
        }
      ]
    },
    {
      "cell_type": "code",
      "source": [],
      "metadata": {
        "id": "jiKOz_61TwpR"
      },
      "execution_count": null,
      "outputs": []
    }
  ]
}