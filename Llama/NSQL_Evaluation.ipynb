{
  "nbformat": 4,
  "nbformat_minor": 0,
  "metadata": {
    "colab": {
      "provenance": [],
      "gpuType": "T4",
      "authorship_tag": "ABX9TyM3KB7Y++lMLoEki2X9xQsd"
    },
    "kernelspec": {
      "name": "python3",
      "display_name": "Python 3"
    },
    "language_info": {
      "name": "python"
    },
    "accelerator": "GPU"
  },
  "cells": [
    {
      "cell_type": "code",
      "execution_count": null,
      "metadata": {
        "id": "O6XHbiaTzBV1"
      },
      "outputs": [],
      "source": [
        "!pip install transformers bitsandbytes accelerate"
      ]
    },
    {
      "cell_type": "code",
      "source": [
        "from torch import cuda, bfloat16\n",
        "import transformers\n",
        "\n",
        "model_id = \"NumbersStation/nsql-llama-2-7B\"\n",
        "\n",
        "device = f'cuda:{cuda.current_device()}' if cuda.is_available() else 'cpu'\n",
        "\n",
        "\n",
        "## 4bit quantiazation\n",
        "bnb_config = transformers.BitsAndBytesConfig(\n",
        "    load_in_4bit=True,\n",
        "    bnb_4bit_quant_type='nf4',\n",
        "    bnb_4bit_use_double_quant=True,\n",
        "    bnb_4bit_compute_dtype=bfloat16\n",
        ")\n",
        "\n",
        "\n",
        "\n",
        "model = transformers.AutoModelForCausalLM.from_pretrained(\n",
        "    model_id,\n",
        "    trust_remote_code=True,\n",
        "    quantization_config=bnb_config,\n",
        "    device_map='auto'\n",
        ")"
      ],
      "metadata": {
        "id": "ralc59xT05OY"
      },
      "execution_count": null,
      "outputs": []
    },
    {
      "cell_type": "code",
      "source": [
        "tokenizer = transformers.AutoTokenizer.from_pretrained(\n",
        "    model_id,\n",
        "    trust_remote_code=True,\n",
        "    quantization_config=bnb_config,\n",
        "    device_map='auto'\n",
        ")"
      ],
      "metadata": {
        "id": "xk4y5Kjt1rmV"
      },
      "execution_count": 2,
      "outputs": []
    },
    {
      "cell_type": "code",
      "source": [
        "### Basic Examples\n",
        "text = \"\"\"CREATE TABLE stadium (\n",
        "    stadium_id number,\n",
        "    location text,\n",
        "    name text,\n",
        "    capacity number,\n",
        ")\n",
        "\n",
        "-- Using valid SQLite, answer the following questions for the tables provided above.\n",
        "\n",
        "-- how many unique location in total?\n",
        "\n",
        "SELECT\"\"\"\n",
        "\n",
        "\n",
        "input_ids = tokenizer(text, return_tensors=\"pt\").input_ids\n",
        "input_ids = input_ids.to('cuda')\n",
        "generated_ids = model.generate(input_ids, max_length=500,do_sample=True)\n",
        "print(tokenizer.decode(generated_ids[0], skip_special_tokens=True))"
      ],
      "metadata": {
        "colab": {
          "base_uri": "https://localhost:8080/"
        },
        "id": "3GnkEN8w2mL1",
        "outputId": "0929d03f-0e3f-4b8b-94ea-ea7d1ddfe67b"
      },
      "execution_count": 8,
      "outputs": [
        {
          "output_type": "stream",
          "name": "stdout",
          "text": [
            "CREATE TABLE stadium (\n",
            "    stadium_id number,\n",
            "    location text,\n",
            "    name text,\n",
            "    capacity number,\n",
            ")\n",
            "\n",
            "-- Using valid SQLite, answer the following questions for the tables provided above.\n",
            "\n",
            "-- how many unique location in total?\n",
            "\n",
            "SELECT COUNT(DISTINCT location) FROM stadium\n"
          ]
        }
      ]
    },
    {
      "cell_type": "code",
      "source": [
        "### Basic Examples\n",
        "text = \"\"\"CREATE TABLE stadium (\n",
        "    stadium_id number,\n",
        "    location text,\n",
        "    name text,\n",
        "    capacity number,\n",
        ")\n",
        "\n",
        "-- Using valid SQLite, answer the following questions for the tables provided above.\n",
        "\n",
        "-- find the name = Alpha from this table?\n",
        "\n",
        "SELECT\"\"\"\n",
        "\n",
        "\n",
        "input_ids = tokenizer(text, return_tensors=\"pt\").input_ids\n",
        "input_ids = input_ids.to('cuda')\n",
        "generated_ids = model.generate(input_ids, max_length=500,do_sample=True)\n",
        "print(tokenizer.decode(generated_ids[0], skip_special_tokens=True))"
      ],
      "metadata": {
        "colab": {
          "base_uri": "https://localhost:8080/"
        },
        "id": "Z9Q2wGYt7A_1",
        "outputId": "2b9df2e4-7807-4676-ff67-9e92ffd5ab66"
      },
      "execution_count": 15,
      "outputs": [
        {
          "output_type": "stream",
          "name": "stdout",
          "text": [
            "CREATE TABLE stadium (\n",
            "    stadium_id number,\n",
            "    location text,\n",
            "    name text,\n",
            "    capacity number,\n",
            ")\n",
            "\n",
            "-- Using valid SQLite, answer the following questions for the tables provided above.\n",
            "\n",
            "-- find the name = Alpha from this table?\n",
            "\n",
            "SELECT name FROM stadium WHERE name = 'Alpha'\n"
          ]
        }
      ]
    },
    {
      "cell_type": "code",
      "source": [
        "### Check Grouping and Aggregate performance\n",
        "text = \"\"\"CREATE TABLE stadium (\n",
        "    stadium_id number,\n",
        "    location text,\n",
        "    name text,\n",
        "    capacity number,\n",
        ")\n",
        "\n",
        "-- Using valid SQLite, answer the following questions for the tables provided above.\n",
        "\n",
        "-- how many maximum capacity for each group?\n",
        "\n",
        "SELECT\"\"\"\n",
        "\n",
        "\n",
        "input_ids = tokenizer(text, return_tensors=\"pt\").input_ids\n",
        "input_ids = input_ids.to('cuda')\n",
        "generated_ids = model.generate(input_ids, max_length=500,do_sample=True)\n",
        "print(tokenizer.decode(generated_ids[0], skip_special_tokens=True))"
      ],
      "metadata": {
        "colab": {
          "base_uri": "https://localhost:8080/"
        },
        "id": "zDXAy5Of3eSa",
        "outputId": "cd2649bc-db0c-450a-b92d-b8fac19c6acc"
      },
      "execution_count": 9,
      "outputs": [
        {
          "output_type": "stream",
          "name": "stdout",
          "text": [
            "CREATE TABLE stadium (\n",
            "    stadium_id number,\n",
            "    location text,\n",
            "    name text,\n",
            "    capacity number,\n",
            ")\n",
            "\n",
            "-- Using valid SQLite, answer the following questions for the tables provided above.\n",
            "\n",
            "-- how many maximum capacity for each group?\n",
            "\n",
            "SELECT MAX(capacity), name FROM stadium GROUP BY name\n"
          ]
        }
      ]
    },
    {
      "cell_type": "code",
      "source": [
        "### Check Grouping and Aggregate performance\n",
        "text = \"\"\"CREATE TABLE stadium (\n",
        "\n",
        "    country text,\n",
        "    city text,\n",
        "    capacity number,\n",
        ")\n",
        "\n",
        "-- Using valid SQLite, answer the following questions for the tables provided above.\n",
        "\n",
        "-- how many maximum and minimum capacity for each group of city and country?\n",
        "\n",
        "SELECT\"\"\"\n",
        "\n",
        "\n",
        "input_ids = tokenizer(text, return_tensors=\"pt\").input_ids\n",
        "input_ids = input_ids.to('cuda')\n",
        "generated_ids = model.generate(input_ids, max_length=500,do_sample=True)\n",
        "print(tokenizer.decode(generated_ids[0], skip_special_tokens=True))"
      ],
      "metadata": {
        "colab": {
          "base_uri": "https://localhost:8080/"
        },
        "id": "4i63ZsdO4Vj8",
        "outputId": "24eb4176-d0ae-43fb-d388-567f521f6be8"
      },
      "execution_count": 10,
      "outputs": [
        {
          "output_type": "stream",
          "name": "stdout",
          "text": [
            "CREATE TABLE stadium (\n",
            "\n",
            "    country text,\n",
            "    city text,\n",
            "    capacity number,\n",
            ")\n",
            "\n",
            "-- Using valid SQLite, answer the following questions for the tables provided above.\n",
            "\n",
            "-- how many maximum and minimum capacity for each group of city and country?\n",
            "\n",
            "SELECT MAX(capacity), MIN(capacity), country, city FROM stadium GROUP BY country, city\n"
          ]
        }
      ]
    },
    {
      "cell_type": "code",
      "source": [
        "### Check Join Operation\n",
        "text = \"\"\"\n",
        "CREATE TABLE employees (\n",
        "    id INTEGER PRIMARY KEY,\n",
        "    name TEXT NOT NULL,\n",
        "    department_id INTEGER,\n",
        "    FOREIGN KEY (department_id) REFERENCES departments(id)\n",
        ");\n",
        "\n",
        "CREATE TABLE departments (\n",
        "    id INTEGER PRIMARY KEY,\n",
        "    department_name TEXT NOT NULL\n",
        ");\n",
        "\n",
        "\n",
        "-- Using valid SQLite, answer the following questions for the tables provided above.\n",
        "\n",
        "-- list all employees along with their department names using join?\n",
        "\n",
        "SELECT\"\"\"\n",
        "\n",
        "\n",
        "input_ids = tokenizer(text, return_tensors=\"pt\").input_ids\n",
        "input_ids = input_ids.to('cuda')\n",
        "generated_ids = model.generate(input_ids, max_length=500,do_sample=True)\n",
        "print(tokenizer.decode(generated_ids[0], skip_special_tokens=True))"
      ],
      "metadata": {
        "colab": {
          "base_uri": "https://localhost:8080/"
        },
        "id": "W2q6Y_D86HGq",
        "outputId": "4b2da302-8e74-4c26-af7e-512c9ad9e249"
      },
      "execution_count": 12,
      "outputs": [
        {
          "output_type": "stream",
          "name": "stdout",
          "text": [
            "\n",
            "CREATE TABLE employees (\n",
            "    id INTEGER PRIMARY KEY,\n",
            "    name TEXT NOT NULL,\n",
            "    department_id INTEGER,\n",
            "    FOREIGN KEY (department_id) REFERENCES departments(id)\n",
            ");\n",
            "\n",
            "CREATE TABLE departments (\n",
            "    id INTEGER PRIMARY KEY,\n",
            "    department_name TEXT NOT NULL\n",
            ");\n",
            "\n",
            "\n",
            "-- Using valid SQLite, answer the following questions for the tables provided above.\n",
            "\n",
            "-- list all employees along with their department names using join?\n",
            "\n",
            "SELECT employees.name, departments.department_name FROM employees JOIN departments ON employees.department_id = departments.id\n"
          ]
        }
      ]
    },
    {
      "cell_type": "code",
      "source": [],
      "metadata": {
        "id": "oBpU-OZl6oA1"
      },
      "execution_count": null,
      "outputs": []
    }
  ]
}