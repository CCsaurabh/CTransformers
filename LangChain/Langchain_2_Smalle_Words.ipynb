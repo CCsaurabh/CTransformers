{
  "nbformat": 4,
  "nbformat_minor": 0,
  "metadata": {
    "colab": {
      "provenance": [],
      "authorship_tag": "ABX9TyOcsApCKSRLMmsddspHkzNt"
    },
    "kernelspec": {
      "name": "python3",
      "display_name": "Python 3"
    },
    "language_info": {
      "name": "python"
    }
  },
  "cells": [
    {
      "cell_type": "markdown",
      "source": [
        "## Modules Installation"
      ],
      "metadata": {
        "id": "ULPPexKUwSgV"
      }
    },
    {
      "cell_type": "code",
      "execution_count": null,
      "metadata": {
        "id": "T_DbM3NnhF0v"
      },
      "outputs": [],
      "source": [
        "!pip install langchain"
      ]
    },
    {
      "cell_type": "code",
      "source": [
        "from langchain.llms import LlamaCpp\n",
        "from langchain import PromptTemplate, LLMChain\n",
        "from langchain.callbacks.manager import CallbackManager\n",
        "from langchain.callbacks.streaming_stdout import (StreamingStdOutCallbackHandler)\n",
        "from langchain.vectorstores import FAISS\n",
        "from langchain.embeddings import HuggingFaceInstructEmbeddings\n",
        "from langchain.document_loaders import UnstructuredFileLoader\n",
        "from langchain.text_splitter import RecursiveCharacterTextSplitter\n",
        "from langchain.text_splitter import CharacterTextSplitter"
      ],
      "metadata": {
        "id": "iWcklgPQhoMh"
      },
      "execution_count": 6,
      "outputs": []
    },
    {
      "cell_type": "code",
      "source": [
        "company_names = \"ByteBloom \\n EcoElement \\n SolarFlare Studios \\n AquaPurity \\n NanoNest \\n ZenithZone \\n PixelPond \\n UrbanUtopia \\n CloudCraft \\n TerraTrek \\n QuantumQuest \\n VitalVista \\n FusionFront \\n MysticMode \\n OrbitOcean \\n AlphaAvenue \\n BioBreeze \\n CosmicCrest \\n DigitalDawn \\n EmberEdge \\n FluxField \\n GravityGuild \\n HorizonHive \\n InfinityInk \\n JoltJourney \\n KineticKey \\n LuminousLink \\n MotionMeadow \\n NebulaNook \\n OmegaOrbit \\n PrismPath \\n QuarkQuest \\n RadiantRidge \\n SpectrumSphere \\n ThriveThrottle \\n UltraUnity \\n VertexVoyage \\n WaveWhisper \\n ZenithZone \\n AzureAim \\n BloomBridge \\n CoreCraft \\n DriftDream \\n EchoElement \\n FlareField \\n GlowGuild \\n HavenHue \\n InsightIsle \\n JewelJunction \\n KiteKey \\n LeafLift \\n MeadowMind \\n NectarNest \\n OpalOrbit \\n PulsePath \\n QuillQuest \\n RippleRidge \\n SparkSphere \\n TideThrive \\n UmbraUnity \\n VerveVista \\n WhisperWave \\n ZenZone \\n ArcAvenue \\n BlazeBridge \\n CrestCore \\n DuskDrift \\n EssenceEcho \\n FloraField \\n GleamGuild \\n HorizonHaven \\n IrisIsle \\n JoltJewel \\n KindleKey \\n LumenLeaf \\n MysticMeadow \\n NovaNectar \\n OasisOrbit \\n PeakPulse \\n QuestQuill \\n RadiantRipple \\n SurgeSphere \\n TidalThrive \\n UmbraUnity \\n VortexVista \\n WhisperWave \\n ZenithZone \\n AzureArc \\n BloomBridge \\n CoreCraft \\n DriftDream \\n EchoElement \\n FlareField \\n GlowGuild \\n HavenHue \\n InsightIsle \\n JewelJunction \\n KiteKey \\n LeafLift \\n MeadowMind \\n NectarNest \\n OpalOrbit \\n PulsePath \\n QuillQuest \\n RippleRidge \\n SparkSphere \\n TideThrive \\n UmbraUnity \\n VerveVista \\n WhisperWave \\n ZenZone \\n ArcAvenue \\n BlazeBridge \\n CrestCore \\n DuskDrift \\n EssenceEcho \\n FloraField \\n GleamGuild \\n HorizonHaven \\n IrisIsle \\n JoltJewel \\n KindleKey \\n LumenLeaf \\n MysticMeadow \\n NovaNectar \\n OasisOrbit \\n PeakPulse \\n QuestQuill \\n RadiantRipple \\n SurgeSphere \\n TidalThrive \\n UmbraUnity \\n VortexVista \\n WhisperWave \\n ZenithZone \\n AzureArc \\n BloomBridge \\n CoreCraft \\n DriftDream \\n EchoElement \\n FlareField \\n GlowGuild \\n HavenHue \\n InsightIsle \\n JewelJunction \\n KiteKey \\n LeafLift \\n MeadowMind \\n NectarNest \\n OpalOrbit \\n PulsePath \\n QuillQuest \\n RippleRidge \\n SparkSphere \\n TideThrive \\n UmbraUnity \\n VerveVista \\n WhisperWave \\n ZenZone \\n ArcAvenue \\n BlazeBridge \\n CrestCore \\n DuskDrift \\n EssenceEcho \\n FloraField \\n GleamGuild \\n HorizonHaven \\n IrisIsle \\n JoltJewel \\n KindleKey \\n LumenLeaf \\n MysticMeadow \\n NovaNectar \\n OasisOrbit \\n PeakPulse \\n QuestQuill \\n RadiantRipple \\n SurgeSphere \\n TidalThrive \\n UmbraUnity \\n VortexVista \\n WhisperWave\""
      ],
      "metadata": {
        "id": "Cea3jIqBifrL"
      },
      "execution_count": 18,
      "outputs": []
    },
    {
      "cell_type": "code",
      "source": [
        "### We will reduce chunk size to get smaller sentence\n",
        "text_splitter = CharacterTextSplitter(\n",
        "    separator=\"\\n\",\n",
        "    chunk_size=20,\n",
        "    chunk_overlap=0,\n",
        "    length_function=len\n",
        ")\n",
        "chunks = text_splitter.split_text(company_names)\n"
      ],
      "metadata": {
        "id": "LTzvT0hwjHXn"
      },
      "execution_count": 39,
      "outputs": []
    },
    {
      "cell_type": "code",
      "source": [
        "chunks[0]"
      ],
      "metadata": {
        "colab": {
          "base_uri": "https://localhost:8080/",
          "height": 35
        },
        "id": "_9Ngf6_SjMf0",
        "outputId": "615d91c7-3fff-4235-86fe-154e1e36a619"
      },
      "execution_count": 40,
      "outputs": [
        {
          "output_type": "execute_result",
          "data": {
            "text/plain": [
              "'ByteBloom'"
            ],
            "application/vnd.google.colaboratory.intrinsic+json": {
              "type": "string"
            }
          },
          "metadata": {},
          "execution_count": 40
        }
      ]
    },
    {
      "cell_type": "code",
      "source": [
        "chunks[1]"
      ],
      "metadata": {
        "colab": {
          "base_uri": "https://localhost:8080/",
          "height": 35
        },
        "id": "YjP66aTzjOTh",
        "outputId": "a7f7273c-118d-4b36-f5b8-fe057067709d"
      },
      "execution_count": 41,
      "outputs": [
        {
          "output_type": "execute_result",
          "data": {
            "text/plain": [
              "'EcoElement'"
            ],
            "application/vnd.google.colaboratory.intrinsic+json": {
              "type": "string"
            }
          },
          "metadata": {},
          "execution_count": 41
        }
      ]
    },
    {
      "cell_type": "markdown",
      "source": [
        "### Embeddings"
      ],
      "metadata": {
        "id": "vQY3sHtkrZ-t"
      }
    },
    {
      "cell_type": "code",
      "source": [
        "!pip install -U sentence-transformers"
      ],
      "metadata": {
        "id": "1dzEqMDbriEE"
      },
      "execution_count": null,
      "outputs": []
    },
    {
      "cell_type": "code",
      "source": [
        "!pip install faiss-cpu"
      ],
      "metadata": {
        "id": "pgEqHTLhrpN-"
      },
      "execution_count": null,
      "outputs": []
    },
    {
      "cell_type": "code",
      "source": [
        "from langchain.embeddings import HuggingFaceEmbeddings,HuggingFaceInstructEmbeddings\n",
        "from langchain.vectorstores import FAISS\n",
        "\n",
        "model_name = \"sentence-transformers/all-mpnet-base-v2\"\n",
        "#model_name = 'hkunlp/instructor-xl'\n",
        "model_kwargs = {\"device\": \"cpu\"}\n",
        "\n",
        "#embeddings = HuggingFaceInstructEmbeddings(model_name=model_name, model_kwargs=model_kwargs)\n",
        "embeddings = HuggingFaceEmbeddings(model_name = model_name, model_kwargs=model_kwargs)"
      ],
      "metadata": {
        "id": "0qg3fe_rrZQP"
      },
      "execution_count": null,
      "outputs": []
    },
    {
      "cell_type": "code",
      "source": [
        "# storing embeddings in the vector store\n",
        "vectorstore = FAISS.from_texts(chunks, embeddings)"
      ],
      "metadata": {
        "id": "wKjLvufor1Ui"
      },
      "execution_count": 42,
      "outputs": []
    },
    {
      "cell_type": "code",
      "source": [
        "### Search for complete words\n",
        "query = \"Mystic\"\n",
        "search = vectorstore.similarity_search(query, k=5)\n",
        "\n",
        "# Using list comprehension\n",
        "page_contents = [doc.page_content for doc in search]\n",
        "for  index,item in enumerate(page_contents):\n",
        "  print(index, \"  \", item)"
      ],
      "metadata": {
        "colab": {
          "base_uri": "https://localhost:8080/"
        },
        "id": "Tbg46M7jr-Cg",
        "outputId": "8d35bb1e-f512-4759-db1d-6367e102c05a"
      },
      "execution_count": 63,
      "outputs": [
        {
          "output_type": "stream",
          "name": "stdout",
          "text": [
            "0    MysticMode\n",
            "1    MysticMeadow\n",
            "2    MysticMeadow\n",
            "3    MysticMeadow\n",
            "4    QuantumQuest\n"
          ]
        }
      ]
    },
    {
      "cell_type": "markdown",
      "source": [
        "Let's check the performance.\n",
        "\n",
        "\n",
        "Note that the returned distance score is L2 distance. Therefore, a lower score is better.\n",
        "\n"
      ],
      "metadata": {
        "id": "yvW6wuwGvcHp"
      }
    },
    {
      "cell_type": "markdown",
      "source": [
        "### Evaluation 1 : Comfort Zone"
      ],
      "metadata": {
        "id": "It_9ea2OwdXF"
      }
    },
    {
      "cell_type": "code",
      "source": [
        "### Search for complete words\n",
        "query = \"Mystic\"\n",
        "search = vectorstore.similarity_search_with_score(query, k=5)\n",
        "# Using list comprehension\n",
        "for index, doc in enumerate(search):\n",
        "  print(index , \" \",doc[0].page_content,\" \",doc[1])"
      ],
      "metadata": {
        "colab": {
          "base_uri": "https://localhost:8080/"
        },
        "id": "-fnZUzpivQrB",
        "outputId": "205ff437-684a-4317-92bf-68fcf49c246f"
      },
      "execution_count": 65,
      "outputs": [
        {
          "output_type": "stream",
          "name": "stdout",
          "text": [
            "0   MysticMode   0.61371815\n",
            "1   MysticMeadow   0.67042565\n",
            "2   MysticMeadow   0.67042565\n",
            "3   MysticMeadow   0.67042565\n",
            "4   QuantumQuest   1.1682106\n"
          ]
        }
      ]
    },
    {
      "cell_type": "code",
      "source": [
        "### Search for complete words\n",
        "query = \"Pond\"\n",
        "search = vectorstore.similarity_search_with_score(query, k=5)\n",
        "# Using list comprehension\n",
        "for index, doc in enumerate(search):\n",
        "  print(index , \" \",doc[0].page_content,\" \",doc[1])"
      ],
      "metadata": {
        "colab": {
          "base_uri": "https://localhost:8080/"
        },
        "id": "XIJXti7QwynI",
        "outputId": "2f20ae0a-8255-439e-e832-fd1361519193"
      },
      "execution_count": 71,
      "outputs": [
        {
          "output_type": "stream",
          "name": "stdout",
          "text": [
            "0   RippleRidge   0.9219454\n",
            "1   RippleRidge   0.9219454\n",
            "2   RippleRidge   0.9219454\n",
            "3   MeadowMind   1.0694668\n",
            "4   MeadowMind   1.0694668\n"
          ]
        }
      ]
    },
    {
      "cell_type": "code",
      "source": [
        "### Search for complete words\n",
        "query = \"Quantum\"\n",
        "search = vectorstore.similarity_search_with_score(query, k=5)\n",
        "# Using list comprehension\n",
        "for index, doc in enumerate(search):\n",
        "  print(index , \" \",doc[0].page_content,\" \",doc[1])"
      ],
      "metadata": {
        "colab": {
          "base_uri": "https://localhost:8080/"
        },
        "id": "q2u9XNu_xF0v",
        "outputId": "6b9b36a9-c0c0-4855-a57e-4be8582d1999"
      },
      "execution_count": 69,
      "outputs": [
        {
          "output_type": "stream",
          "name": "stdout",
          "text": [
            "0   QuantumQuest   0.4465906\n",
            "1   QuarkQuest   0.98394775\n",
            "2   UltraUnity   1.1959038\n",
            "3   QuillQuest   1.2041839\n",
            "4   QuillQuest   1.2041839\n"
          ]
        }
      ]
    },
    {
      "cell_type": "code",
      "source": [
        "### Search for complete words\n",
        "query = \"Quest\"\n",
        "search = vectorstore.similarity_search_with_score(query, k=5)\n",
        "# Using list comprehension\n",
        "for index, doc in enumerate(search):\n",
        "  print(index , \" \",doc[0].page_content,\" \",doc[1])"
      ],
      "metadata": {
        "colab": {
          "base_uri": "https://localhost:8080/"
        },
        "id": "SnHVY8FExJTA",
        "outputId": "fe1a42d6-51ac-46ee-c9b4-569baeecd79d"
      },
      "execution_count": 70,
      "outputs": [
        {
          "output_type": "stream",
          "name": "stdout",
          "text": [
            "0   QuestQuill   0.5457902\n",
            "1   QuestQuill   0.5457902\n",
            "2   QuestQuill   0.5457902\n",
            "3   QuillQuest   0.9417101\n",
            "4   QuillQuest   0.9417101\n"
          ]
        }
      ]
    },
    {
      "cell_type": "code",
      "source": [
        "### Search for complete words\n",
        "query = \"Meadow\"\n",
        "search = vectorstore.similarity_search_with_score(query, k=5)\n",
        "# Using list comprehension\n",
        "for index, doc in enumerate(search):\n",
        "  print(index , \" \",doc[0].page_content,\" \",doc[1])"
      ],
      "metadata": {
        "colab": {
          "base_uri": "https://localhost:8080/"
        },
        "id": "_4od9rJRxOri",
        "outputId": "e1212486-8354-4b36-d24f-ab9958097bdf"
      },
      "execution_count": 72,
      "outputs": [
        {
          "output_type": "stream",
          "name": "stdout",
          "text": [
            "0   MeadowMind   0.42403907\n",
            "1   MeadowMind   0.42403907\n",
            "2   MeadowMind   0.42403907\n",
            "3   FloraField   0.88558674\n",
            "4   FloraField   0.88558674\n"
          ]
        }
      ]
    },
    {
      "cell_type": "markdown",
      "source": [
        "Seems like score upto 0.7 is reasonable for L2"
      ],
      "metadata": {
        "id": "yzAW_e6vxVPh"
      }
    },
    {
      "cell_type": "markdown",
      "source": [
        "### Evaluation 2 :  Partial Words"
      ],
      "metadata": {
        "id": "UegXOkXTwhBN"
      }
    },
    {
      "cell_type": "code",
      "source": [
        "### Let's evaluate the performance for partial words\n",
        "query = \"stic\"\n",
        "search = vectorstore.similarity_search_with_score(query, k=5)\n",
        "\n",
        "# Using list comprehension\n",
        "for index, doc in enumerate(search):\n",
        "  print(index , \" \",doc[0].page_content,\" \",doc[1])"
      ],
      "metadata": {
        "colab": {
          "base_uri": "https://localhost:8080/"
        },
        "id": "ckkBOP6WsaqC",
        "outputId": "0cf3d4d2-8274-48f3-85af-8983fbedbf54"
      },
      "execution_count": 61,
      "outputs": [
        {
          "output_type": "stream",
          "name": "stdout",
          "text": [
            "0   OmegaOrbit   1.3203022\n",
            "1   JoltJewel   1.4259626\n",
            "2   JoltJewel   1.4259626\n",
            "3   JoltJewel   1.4259626\n",
            "4   PixelPond   1.4325418\n"
          ]
        }
      ]
    },
    {
      "cell_type": "code",
      "source": [
        "### Let's evaluate the performance for partial words but few words from beginning\n",
        "query = \"Myst\"\n",
        "search = vectorstore.similarity_search_with_score(query, k=5)\n",
        "\n",
        "# Using list comprehension\n",
        "for index, doc in enumerate(search):\n",
        "  print(index , \" \",doc[0].page_content,\" \",doc[1])"
      ],
      "metadata": {
        "colab": {
          "base_uri": "https://localhost:8080/"
        },
        "id": "PVsfgnccuwS8",
        "outputId": "762579c4-e51c-4515-930e-a4f197a545d9"
      },
      "execution_count": 66,
      "outputs": [
        {
          "output_type": "stream",
          "name": "stdout",
          "text": [
            "0   DuskDrift   1.3157439\n",
            "1   DuskDrift   1.3157439\n",
            "2   DuskDrift   1.3157439\n",
            "3   DriftDream   1.3394732\n",
            "4   DriftDream   1.3394732\n"
          ]
        }
      ]
    },
    {
      "cell_type": "markdown",
      "source": [
        "We are getting high scores but not able to find the right words.\n",
        "\n",
        "Let's evaluate the case with bert-base-uncased model."
      ],
      "metadata": {
        "id": "kYsK4fAwxcDJ"
      }
    },
    {
      "cell_type": "code",
      "source": [
        "\n",
        "model_name = \"bert-base-uncased\"\n",
        "#model_name = 'hkunlp/instructor-xl'\n",
        "model_kwargs = {\"device\": \"cpu\"}\n",
        "\n",
        "#embeddings = HuggingFaceInstructEmbeddings(model_name=model_name, model_kwargs=model_kwargs)\n",
        "embeddings = HuggingFaceEmbeddings(model_name = model_name, model_kwargs=model_kwargs)"
      ],
      "metadata": {
        "id": "kl4wyFC6vzWs"
      },
      "execution_count": null,
      "outputs": []
    },
    {
      "cell_type": "code",
      "source": [
        "# storing embeddings in the vector store\n",
        "vectorstore2 = FAISS.from_texts(chunks, embeddings)"
      ],
      "metadata": {
        "id": "Ho9DTESHyY3e"
      },
      "execution_count": 74,
      "outputs": []
    },
    {
      "cell_type": "code",
      "source": [
        "### Let's evaluate the performance for partial words but few words from beginning\n",
        "query = \"Myst\"\n",
        "search = vectorstore2.similarity_search_with_score(query, k=5)\n",
        "\n",
        "# Using list comprehension\n",
        "for index, doc in enumerate(search):\n",
        "  print(index , \" \",doc[0].page_content,\" \",doc[1])"
      ],
      "metadata": {
        "colab": {
          "base_uri": "https://localhost:8080/"
        },
        "id": "Y-PbnTOfypsD",
        "outputId": "f43e9ea4-12f1-45b6-8e1e-5ac7d0bb1867"
      },
      "execution_count": 75,
      "outputs": [
        {
          "output_type": "stream",
          "name": "stdout",
          "text": [
            "0   CloudCraft   52.811188\n",
            "1   HavenHue   59.372635\n",
            "2   HavenHue   59.372635\n",
            "3   HavenHue   59.372635\n",
            "4   HorizonHaven   59.396706\n"
          ]
        }
      ]
    },
    {
      "cell_type": "code",
      "source": [
        "### Let's evaluate the performance for partial words\n",
        "query = \"stic\"\n",
        "search = vectorstore.similarity_search_with_score(query, k=5)\n",
        "\n",
        "# Using list comprehension\n",
        "for index, doc in enumerate(search):\n",
        "  print(index , \" \",doc[0].page_content,\" \",doc[1])"
      ],
      "metadata": {
        "colab": {
          "base_uri": "https://localhost:8080/"
        },
        "id": "XVHFgMIeyssM",
        "outputId": "d10f766e-9ab1-40ea-edf3-83e4aeee52dd"
      },
      "execution_count": 76,
      "outputs": [
        {
          "output_type": "stream",
          "name": "stdout",
          "text": [
            "0   OmegaOrbit   1.3203022\n",
            "1   JoltJewel   1.4259626\n",
            "2   JoltJewel   1.4259626\n",
            "3   JoltJewel   1.4259626\n",
            "4   PixelPond   1.4325418\n"
          ]
        }
      ]
    },
    {
      "cell_type": "code",
      "source": [],
      "metadata": {
        "id": "R60KGuE_yzIf"
      },
      "execution_count": null,
      "outputs": []
    }
  ]
}