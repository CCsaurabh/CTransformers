{
  "nbformat": 4,
  "nbformat_minor": 0,
  "metadata": {
    "colab": {
      "provenance": [],
      "authorship_tag": "ABX9TyOytkZgM+wjBRAf95qprF/M"
    },
    "kernelspec": {
      "name": "python3",
      "display_name": "Python 3"
    },
    "language_info": {
      "name": "python"
    }
  },
  "cells": [
    {
      "cell_type": "code",
      "execution_count": null,
      "metadata": {
        "id": "T_DbM3NnhF0v"
      },
      "outputs": [],
      "source": [
        "!pip install langchain"
      ]
    },
    {
      "cell_type": "code",
      "source": [
        "from langchain.llms import LlamaCpp\n",
        "from langchain import PromptTemplate, LLMChain\n",
        "from langchain.callbacks.manager import CallbackManager\n",
        "from langchain.callbacks.streaming_stdout import (StreamingStdOutCallbackHandler)\n",
        "from langchain.vectorstores import FAISS\n",
        "from langchain.embeddings import HuggingFaceInstructEmbeddings\n",
        "from langchain.document_loaders import UnstructuredFileLoader\n",
        "from langchain.text_splitter import RecursiveCharacterTextSplitter\n",
        "from langchain.text_splitter import CharacterTextSplitter"
      ],
      "metadata": {
        "id": "iWcklgPQhoMh"
      },
      "execution_count": 6,
      "outputs": []
    },
    {
      "cell_type": "code",
      "source": [
        "company_names = \"ByteBloom \\n EcoElement \\n SolarFlare Studios \\n AquaPurity \\n NanoNest \\n ZenithZone \\n PixelPond \\n UrbanUtopia \\n CloudCraft \\n TerraTrek \\n QuantumQuest \\n VitalVista \\n FusionFront \\n MysticMode \\n OrbitOcean \\n AlphaAvenue \\n BioBreeze \\n CosmicCrest \\n DigitalDawn \\n EmberEdge \\n FluxField \\n GravityGuild \\n HorizonHive \\n InfinityInk \\n JoltJourney \\n KineticKey \\n LuminousLink \\n MotionMeadow \\n NebulaNook \\n OmegaOrbit \\n PrismPath \\n QuarkQuest \\n RadiantRidge \\n SpectrumSphere \\n ThriveThrottle \\n UltraUnity \\n VertexVoyage \\n WaveWhisper \\n ZenithZone \\n AzureAim \\n BloomBridge \\n CoreCraft \\n DriftDream \\n EchoElement \\n FlareField \\n GlowGuild \\n HavenHue \\n InsightIsle \\n JewelJunction \\n KiteKey \\n LeafLift \\n MeadowMind \\n NectarNest \\n OpalOrbit \\n PulsePath \\n QuillQuest \\n RippleRidge \\n SparkSphere \\n TideThrive \\n UmbraUnity \\n VerveVista \\n WhisperWave \\n ZenZone \\n ArcAvenue \\n BlazeBridge \\n CrestCore \\n DuskDrift \\n EssenceEcho \\n FloraField \\n GleamGuild \\n HorizonHaven \\n IrisIsle \\n JoltJewel \\n KindleKey \\n LumenLeaf \\n MysticMeadow \\n NovaNectar \\n OasisOrbit \\n PeakPulse \\n QuestQuill \\n RadiantRipple \\n SurgeSphere \\n TidalThrive \\n UmbraUnity \\n VortexVista \\n WhisperWave \\n ZenithZone \\n AzureArc \\n BloomBridge \\n CoreCraft \\n DriftDream \\n EchoElement \\n FlareField \\n GlowGuild \\n HavenHue \\n InsightIsle \\n JewelJunction \\n KiteKey \\n LeafLift \\n MeadowMind \\n NectarNest \\n OpalOrbit \\n PulsePath \\n QuillQuest \\n RippleRidge \\n SparkSphere \\n TideThrive \\n UmbraUnity \\n VerveVista \\n WhisperWave \\n ZenZone \\n ArcAvenue \\n BlazeBridge \\n CrestCore \\n DuskDrift \\n EssenceEcho \\n FloraField \\n GleamGuild \\n HorizonHaven \\n IrisIsle \\n JoltJewel \\n KindleKey \\n LumenLeaf \\n MysticMeadow \\n NovaNectar \\n OasisOrbit \\n PeakPulse \\n QuestQuill \\n RadiantRipple \\n SurgeSphere \\n TidalThrive \\n UmbraUnity \\n VortexVista \\n WhisperWave \\n ZenithZone \\n AzureArc \\n BloomBridge \\n CoreCraft \\n DriftDream \\n EchoElement \\n FlareField \\n GlowGuild \\n HavenHue \\n InsightIsle \\n JewelJunction \\n KiteKey \\n LeafLift \\n MeadowMind \\n NectarNest \\n OpalOrbit \\n PulsePath \\n QuillQuest \\n RippleRidge \\n SparkSphere \\n TideThrive \\n UmbraUnity \\n VerveVista \\n WhisperWave \\n ZenZone \\n ArcAvenue \\n BlazeBridge \\n CrestCore \\n DuskDrift \\n EssenceEcho \\n FloraField \\n GleamGuild \\n HorizonHaven \\n IrisIsle \\n JoltJewel \\n KindleKey \\n LumenLeaf \\n MysticMeadow \\n NovaNectar \\n OasisOrbit \\n PeakPulse \\n QuestQuill \\n RadiantRipple \\n SurgeSphere \\n TidalThrive \\n UmbraUnity \\n VortexVista \\n WhisperWave\""
      ],
      "metadata": {
        "id": "Cea3jIqBifrL"
      },
      "execution_count": 18,
      "outputs": []
    },
    {
      "cell_type": "code",
      "source": [
        "### We will reduce chunk size to get smaller sentence\n",
        "text_splitter = CharacterTextSplitter(\n",
        "    separator=\"\\n\",\n",
        "    chunk_size=50,\n",
        "    chunk_overlap=20,\n",
        "    length_function=len\n",
        ")\n",
        "chunks = text_splitter.split_text(company_names)"
      ],
      "metadata": {
        "id": "LTzvT0hwjHXn"
      },
      "execution_count": 19,
      "outputs": []
    },
    {
      "cell_type": "code",
      "source": [
        "chunks[0]"
      ],
      "metadata": {
        "colab": {
          "base_uri": "https://localhost:8080/",
          "height": 35
        },
        "id": "_9Ngf6_SjMf0",
        "outputId": "eaab0dc3-1746-4524-adc1-5797dae3c5d6"
      },
      "execution_count": 20,
      "outputs": [
        {
          "output_type": "execute_result",
          "data": {
            "text/plain": [
              "'ByteBloom \\n EcoElement \\n SolarFlare Studios'"
            ],
            "application/vnd.google.colaboratory.intrinsic+json": {
              "type": "string"
            }
          },
          "metadata": {},
          "execution_count": 20
        }
      ]
    },
    {
      "cell_type": "code",
      "source": [
        "chunks[1]"
      ],
      "metadata": {
        "colab": {
          "base_uri": "https://localhost:8080/",
          "height": 35
        },
        "id": "YjP66aTzjOTh",
        "outputId": "f01ee633-beda-4e16-d72b-a13c1f8be331"
      },
      "execution_count": 21,
      "outputs": [
        {
          "output_type": "execute_result",
          "data": {
            "text/plain": [
              "'SolarFlare Studios \\n AquaPurity \\n NanoNest'"
            ],
            "application/vnd.google.colaboratory.intrinsic+json": {
              "type": "string"
            }
          },
          "metadata": {},
          "execution_count": 21
        }
      ]
    },
    {
      "cell_type": "code",
      "source": [],
      "metadata": {
        "id": "8vE8ZmfvjUO6"
      },
      "execution_count": null,
      "outputs": []
    }
  ]
}