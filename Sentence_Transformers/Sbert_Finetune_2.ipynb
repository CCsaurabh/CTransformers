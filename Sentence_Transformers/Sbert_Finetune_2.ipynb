{
  "nbformat": 4,
  "nbformat_minor": 0,
  "metadata": {
    "colab": {
      "provenance": [],
      "authorship_tag": "ABX9TyPXjoPFxe5jonYXbHRXCUFW"
    },
    "kernelspec": {
      "name": "python3",
      "display_name": "Python 3"
    },
    "language_info": {
      "name": "python"
    }
  },
  "cells": [
    {
      "cell_type": "code",
      "execution_count": null,
      "metadata": {
        "id": "tT1W9q_durKU"
      },
      "outputs": [],
      "source": [
        "!pip install SentenceTransformer"
      ]
    },
    {
      "cell_type": "code",
      "source": [
        "from sentence_transformers import SentenceTransformer, InputExample, losses\n",
        "import pandas as pd\n",
        "import numpy as np\n",
        "\n",
        "# Load the SBERT model\n",
        "model = SentenceTransformer('bert-base-nli-mean-tokens')\n",
        "\n",
        "# Load the training data into a pandas dataframe\n",
        "df = pd.read_csv('training_data.csv')\n",
        "\n",
        "# Create a list of InputExample objects\n",
        "examples = []\n",
        "for i, row in df.iterrows():\n",
        "    examples.append(InputExample(texts=[row['text_a'], row['text_b']], label=row['score']))\n",
        "\n",
        "# Define the training data generator\n",
        "def data_generator(examples, batch_size=16):\n",
        "    for i in range(0, len(examples), batch_size):\n",
        "        batch = examples[i:i+batch_size]\n",
        "        texts = [example.texts for example in batch]\n",
        "        labels = [example.label for example in batch]\n",
        "        yield texts, labels\n",
        "\n",
        "# Define the training loss function\n",
        "train_loss = losses.CosineSimilarityLoss(model)\n",
        "\n",
        "# Fine-tune the model\n",
        "model.fit(\n",
        "    data_generator(examples),\n",
        "    epochs=5,\n",
        "    steps_per_epoch=int(np.ceil(len(examples) / 16)),\n",
        "    warmup_steps=100,\n",
        "    loss=train_loss,\n",
        ")\n",
        "\n",
        "# Save the fine-tuned model\n",
        "model.save('finetuned_model')\n"
      ],
      "metadata": {
        "id": "rTx6YzLNur57"
      },
      "execution_count": null,
      "outputs": []
    }
  ]
}