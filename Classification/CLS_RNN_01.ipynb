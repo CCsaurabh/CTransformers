{
  "nbformat": 4,
  "nbformat_minor": 0,
  "metadata": {
    "colab": {
      "name": "CLS_RNN_01.ipynb",
      "provenance": [],
      "collapsed_sections": [],
      "authorship_tag": "ABX9TyOw2kXnNSBNlLOu9acw3QGX"
    },
    "kernelspec": {
      "name": "python3",
      "display_name": "Python 3"
    },
    "language_info": {
      "name": "python"
    }
  },
  "cells": [
    {
      "cell_type": "code",
      "source": [
        "!wget https://download.pytorch.org/tutorial/data.zip"
      ],
      "metadata": {
        "colab": {
          "base_uri": "https://localhost:8080/"
        },
        "id": "NTD-1IQCQXl-",
        "outputId": "458a2fd8-5cf9-4017-da09-94fefba273ce"
      },
      "execution_count": 7,
      "outputs": [
        {
          "output_type": "stream",
          "name": "stdout",
          "text": [
            "--2022-01-06 07:20:56--  https://download.pytorch.org/tutorial/data.zip\n",
            "Resolving download.pytorch.org (download.pytorch.org)... 13.32.204.49, 13.32.204.34, 13.32.204.93, ...\n",
            "Connecting to download.pytorch.org (download.pytorch.org)|13.32.204.49|:443... connected.\n",
            "HTTP request sent, awaiting response... 200 OK\n",
            "Length: 2882130 (2.7M) [application/zip]\n",
            "Saving to: ‘data.zip’\n",
            "\n",
            "\rdata.zip              0%[                    ]       0  --.-KB/s               \rdata.zip            100%[===================>]   2.75M  --.-KB/s    in 0.04s   \n",
            "\n",
            "2022-01-06 07:20:56 (74.8 MB/s) - ‘data.zip’ saved [2882130/2882130]\n",
            "\n"
          ]
        }
      ]
    },
    {
      "cell_type": "code",
      "source": [
        "!unzip /content/data.zip"
      ],
      "metadata": {
        "colab": {
          "base_uri": "https://localhost:8080/"
        },
        "id": "vjUdtj6IQxYQ",
        "outputId": "058dfdfb-9b2a-47e3-92c7-92a89030f3d3"
      },
      "execution_count": 8,
      "outputs": [
        {
          "output_type": "stream",
          "name": "stdout",
          "text": [
            "Archive:  /content/data.zip\n",
            "   creating: data/\n",
            "  inflating: data/eng-fra.txt        \n",
            "   creating: data/names/\n",
            "  inflating: data/names/Arabic.txt   \n",
            "  inflating: data/names/Chinese.txt  \n",
            "  inflating: data/names/Czech.txt    \n",
            "  inflating: data/names/Dutch.txt    \n",
            "  inflating: data/names/English.txt  \n",
            "  inflating: data/names/French.txt   \n",
            "  inflating: data/names/German.txt   \n",
            "  inflating: data/names/Greek.txt    \n",
            "  inflating: data/names/Irish.txt    \n",
            "  inflating: data/names/Italian.txt  \n",
            "  inflating: data/names/Japanese.txt  \n",
            "  inflating: data/names/Korean.txt   \n",
            "  inflating: data/names/Polish.txt   \n",
            "  inflating: data/names/Portuguese.txt  \n",
            "  inflating: data/names/Russian.txt  \n",
            "  inflating: data/names/Scottish.txt  \n",
            "  inflating: data/names/Spanish.txt  \n",
            "  inflating: data/names/Vietnamese.txt  \n"
          ]
        }
      ]
    },
    {
      "cell_type": "code",
      "execution_count": 9,
      "metadata": {
        "colab": {
          "base_uri": "https://localhost:8080/"
        },
        "id": "-ZfhKFSdOF5B",
        "outputId": "97a23659-f3eb-4b6a-fc59-582c9fc44d5b"
      },
      "outputs": [
        {
          "output_type": "stream",
          "name": "stdout",
          "text": [
            "['data/names/English.txt', 'data/names/Scottish.txt', 'data/names/Chinese.txt', 'data/names/Polish.txt', 'data/names/Italian.txt', 'data/names/Vietnamese.txt', 'data/names/Dutch.txt', 'data/names/Korean.txt', 'data/names/Japanese.txt', 'data/names/Czech.txt', 'data/names/Russian.txt', 'data/names/Greek.txt', 'data/names/Arabic.txt', 'data/names/French.txt', 'data/names/Spanish.txt', 'data/names/Portuguese.txt', 'data/names/German.txt', 'data/names/Irish.txt']\n",
            "Slusarski\n"
          ]
        }
      ],
      "source": [
        "from __future__ import unicode_literals, print_function, division\n",
        "from io import open\n",
        "import glob\n",
        "import os\n",
        "\n",
        "def findFiles(path): return glob.glob(path)\n",
        "\n",
        "print(findFiles('data/names/*.txt'))\n",
        "\n",
        "import unicodedata\n",
        "import string\n",
        "all_letters = string.ascii_letters + \" .,;'\"\n",
        "n_letters = len(all_letters)\n",
        "\n",
        "#Turn a unicode string to plain ASCII\n",
        "def unicodeToAscii(s):\n",
        "  return ''.join(\n",
        "      c for c in unicodedata.normalize('NFD',s)\n",
        "      if unicodedata.category(c) != ' Mn'\n",
        "      and c in all_letters\n",
        "  )\n",
        "print(unicodeToAscii('Ślusàrski'))"
      ]
    },
    {
      "cell_type": "code",
      "source": [
        "#Build the category lines dictionary, a list of names per language\n",
        "category_lines = {}\n",
        "all_categories = []\n",
        "\n",
        "#Read a file and split into names\n",
        "def readlines(filename):\n",
        "  lines = open(filename,encoding = 'utf-8').read().strip().split('\\n')\n",
        "  return [unicodeToAscii(line) for line in lines]\n",
        "\n",
        "for filename in findFiles('data/names/*.txt'):\n",
        "  category = os.path.splitext(os.path.basename(filename))[0]\n",
        "  all_categories.append(category)\n",
        "  lines = readlines(filename)\n",
        "  category_lines[category] = lines\n",
        "\n",
        "n_categories = len(all_categories)\n",
        "print(n_categories)"
      ],
      "metadata": {
        "colab": {
          "base_uri": "https://localhost:8080/"
        },
        "id": "Y6uitwr8Q2RP",
        "outputId": "5facd02b-682e-455f-f15b-347f94e3f118"
      },
      "execution_count": 12,
      "outputs": [
        {
          "output_type": "stream",
          "name": "stdout",
          "text": [
            "18\n"
          ]
        }
      ]
    },
    {
      "cell_type": "code",
      "source": [
        "print(category_lines['Italian'][:5])"
      ],
      "metadata": {
        "colab": {
          "base_uri": "https://localhost:8080/"
        },
        "id": "-YG9u4FSSV8J",
        "outputId": "a3888a22-3b30-48f3-b74f-1fdabfc1a1d6"
      },
      "execution_count": 13,
      "outputs": [
        {
          "output_type": "stream",
          "name": "stdout",
          "text": [
            "['Abandonato', 'Abatangelo', 'Abatantuono', 'Abate', 'Abategiovanni']\n"
          ]
        }
      ]
    },
    {
      "cell_type": "code",
      "source": [
        "#Turning Names into tensors\n",
        "import torch\n",
        "\n",
        "def lettertoIndex(letter):\n",
        "  return all_letters.find(letter)\n",
        "\n",
        "def letterToTensor(letter):\n",
        "  tensor = torch.zeros(1,n_letters)\n",
        "  tensor[0][lettertoIndex(letter)] = 1\n",
        "  return tensor\n",
        "def lineToTensor(line):\n",
        "  tensor = torch.zeros(len(line),1,n_letters)\n",
        "  for li,letter in enumerate(line):\n",
        "    tensor[li][0][lettertoIndex(letter)] = 1\n",
        "  return tensor\n",
        "\n",
        "print(letterToTensor('J'))\n",
        "\n",
        "print(lineToTensor('Jones').size())"
      ],
      "metadata": {
        "colab": {
          "base_uri": "https://localhost:8080/"
        },
        "id": "MnU9QzWHSjZ3",
        "outputId": "ce2c4c26-bf2a-4c10-ddf5-93e2021fda2b"
      },
      "execution_count": 18,
      "outputs": [
        {
          "output_type": "stream",
          "name": "stdout",
          "text": [
            "tensor([[0., 0., 0., 0., 0., 0., 0., 0., 0., 0., 0., 0., 0., 0., 0., 0., 0., 0.,\n",
            "         0., 0., 0., 0., 0., 0., 0., 0., 0., 0., 0., 0., 0., 0., 0., 0., 0., 1.,\n",
            "         0., 0., 0., 0., 0., 0., 0., 0., 0., 0., 0., 0., 0., 0., 0., 0., 0., 0.,\n",
            "         0., 0., 0.]])\n",
            "torch.Size([5, 1, 57])\n"
          ]
        }
      ]
    },
    {
      "cell_type": "code",
      "source": [
        "#Creating the network\n",
        "import torch.nn as nn\n",
        "\n",
        "class RNN(nn.Module):\n",
        "  def __init__(self,input_size,hidden_size,output_size):\n",
        "    super(RNN,self).__init__()\n",
        "\n",
        "    self.hidden_size = hidden_size\n",
        "    self.i2h = nn.Linear(input_size+hidden_size,hidden_size)\n",
        "    self.i2o = nn.Linear(input_size+hidden_size,output_size)\n",
        "    self.softmax = nn.LogSoftmax(dim=1)\n",
        "\n",
        "  def forward(self,input, hidden):\n",
        "    combined = torch.cat((input,hidden),1)\n",
        "    hidden = self.i2h(combined)\n",
        "    output = self.i2o(combined)\n",
        "    output = self.softmax(output)\n",
        "    return output,hidden\n",
        "    \n",
        "  def initHidden(self):\n",
        "    return torch.zeros(1,self.hidden_size)\n",
        "\n",
        "n_hidden = 128\n",
        "rnn = RNN(n_letters,n_hidden,n_categories)"
      ],
      "metadata": {
        "id": "_RMqXPHVWnqD"
      },
      "execution_count": 25,
      "outputs": []
    },
    {
      "cell_type": "code",
      "source": [
        "input = letterToTensor('A')\n",
        "hidden = torch.zeros(1, n_hidden)\n",
        "\n",
        "output, next_hidden = rnn(input, hidden)"
      ],
      "metadata": {
        "id": "_-CsgMCiYfO0"
      },
      "execution_count": 26,
      "outputs": []
    },
    {
      "cell_type": "code",
      "source": [
        "input = lineToTensor('Albert')\n",
        "hidden = torch.zeros(1, n_hidden)\n",
        "\n",
        "output, next_hidden = rnn(input[0], hidden)\n",
        "print(output)"
      ],
      "metadata": {
        "colab": {
          "base_uri": "https://localhost:8080/"
        },
        "id": "vC5ITHgLYxKK",
        "outputId": "e069c920-cea2-41b3-a010-36926dd05022"
      },
      "execution_count": 31,
      "outputs": [
        {
          "output_type": "stream",
          "name": "stdout",
          "text": [
            "tensor([[-2.8779, -2.9247, -2.9105, -2.9387, -2.9005, -2.8997, -2.8067, -2.9494,\n",
            "         -2.9319, -2.9404, -2.9539, -2.9420, -2.7615, -2.8556, -2.7837, -2.9156,\n",
            "         -2.8857, -2.8767]], grad_fn=<LogSoftmaxBackward0>)\n"
          ]
        }
      ]
    },
    {
      "cell_type": "code",
      "source": [
        "#Prepairing for the training\n",
        "def categoryFromOutput(output):\n",
        "  top_n, top_i = output.topk(1)\n",
        "  category_i = top_i[0].item()\n",
        "  return all_categories[category_i], category_i\n",
        "print(categoryFromOutput(output))"
      ],
      "metadata": {
        "colab": {
          "base_uri": "https://localhost:8080/"
        },
        "id": "6fIjoD_fZQjK",
        "outputId": "85c06754-e64c-4aa4-dc40-f1369dd8b346"
      },
      "execution_count": 33,
      "outputs": [
        {
          "output_type": "stream",
          "name": "stdout",
          "text": [
            "('Arabic', 12)\n"
          ]
        }
      ]
    },
    {
      "cell_type": "code",
      "source": [
        "import random\n",
        "def randomChoice(l):\n",
        "  return l[random.randint(0,len(l)-1)]\n",
        "\n",
        "def randomTrainingExample():\n",
        "  category = randomChoice(all_categories)\n",
        "  line = randomChoice(category_lines[category])\n",
        "  category_tensor = torch.tensor([all_categories.index(category)],dtype=torch.long)\n",
        "  line_tensor = lineToTensor(line)\n",
        "  return category, line, category_tensor, line_tensor\n",
        "\n",
        "for i in range(10):\n",
        "  category,line,category_tensor,line_tensor = randomTrainingExample()\n",
        "  print('category = ',category,' / line =',line)"
      ],
      "metadata": {
        "colab": {
          "base_uri": "https://localhost:8080/"
        },
        "id": "yh1OLPD8cBvJ",
        "outputId": "139bb334-0b08-4edf-e428-34272e4a503a"
      },
      "execution_count": 35,
      "outputs": [
        {
          "output_type": "stream",
          "name": "stdout",
          "text": [
            "category =  Polish  / line = Kowalczyk\n",
            "category =  Polish  / line = Grzeskiewicz\n",
            "category =  Dutch  / line = Agthoven\n",
            "category =  Greek  / line = Avgerinos\n",
            "category =  French  / line = Rey\n",
            "category =  Vietnamese  / line = an\n",
            "category =  Italian  / line = Nardo\n",
            "category =  German  / line = Eberhardt\n",
            "category =  Japanese  / line = Masuno\n",
            "category =  Greek  / line = Christakos\n"
          ]
        }
      ]
    },
    {
      "cell_type": "code",
      "source": [
        "#Training the network\n",
        "criterion = nn.NLLLoss()"
      ],
      "metadata": {
        "id": "DPX1gTG4fhTo"
      },
      "execution_count": 36,
      "outputs": []
    },
    {
      "cell_type": "markdown",
      "source": [
        "**Each loop of training will:**\n",
        "\n",
        "    * Create input and target tensors\n",
        "\n",
        "    * Create a zeroed initial hidden state\n",
        "\n",
        "    * Read each letter in and\n",
        "        Keep hidden state for next letter\n",
        "\n",
        "    * Compare final output to target\n",
        "\n",
        "    * Back-propagate\n",
        "\n",
        "    * Return the output and loss\n",
        "\n",
        "\n",
        "\n",
        "\n",
        "\n"
      ],
      "metadata": {
        "id": "o0-u_Fewf1-W"
      }
    },
    {
      "cell_type": "code",
      "source": [
        "learning_rate = 0.005\n",
        "def train(category_tensor,line_tensor):\n",
        "  hidden = rnn.initHidden()\n",
        "\n",
        "  rnn.zero_grad()\n",
        "\n",
        "  for i in range(line_tensor.size()[0]):\n",
        "    output, hidden = rnn(line_tensor[i],hidden)\n",
        "  \n",
        "  loss = criterion(output,category_tensor)\n",
        "  loss.backward()\n",
        "\n",
        "  #Add parameters gradients to their values, multiplied by learning rate\n",
        "  for p in rnn.parameters():\n",
        "    p.data.add_(p.grad.data, alpha=-learning_rate)\n",
        "  \n",
        "  return output, loss.item()\n"
      ],
      "metadata": {
        "id": "l70_mYdpf5A5"
      },
      "execution_count": 44,
      "outputs": []
    },
    {
      "cell_type": "code",
      "source": [
        "import time\n",
        "import math\n",
        "\n",
        "n_iters = 100000\n",
        "print_every = 5000\n",
        "plot_every = 1000\n",
        "\n",
        "\n",
        "\n",
        "# Keep track of losses for plotting\n",
        "current_loss = 0\n",
        "all_losses = []\n",
        "\n",
        "def timeSince(since):\n",
        "    now = time.time()\n",
        "    s = now - since\n",
        "    m = math.floor(s / 60)\n",
        "    s -= m * 60\n",
        "    return '%dm %ds' % (m, s)\n",
        "\n",
        "start = time.time()\n",
        "\n",
        "for iter in range(1, n_iters + 1):\n",
        "    category, line, category_tensor, line_tensor = randomTrainingExample()\n",
        "    output, loss = train(category_tensor, line_tensor)\n",
        "    current_loss += loss\n",
        "\n",
        "    # Print iter number, loss, name and guess\n",
        "    if iter % print_every == 0:\n",
        "        guess, guess_i = categoryFromOutput(output)\n",
        "        correct = '✓' if guess == category else '✗ (%s)' % category\n",
        "        print('%d %d%% (%s) %.4f %s / %s %s' % (iter, iter / n_iters * 100, timeSince(start), loss, line, guess, correct))\n",
        "\n",
        "    # Add current loss avg to list of losses\n",
        "    if iter % plot_every == 0:\n",
        "        all_losses.append(current_loss / plot_every)\n",
        "        current_loss = 0\n"
      ],
      "metadata": {
        "colab": {
          "base_uri": "https://localhost:8080/"
        },
        "id": "V7E4MAv4f3Hx",
        "outputId": "4dc84fac-7d4e-41df-edb4-d582fcbfd2e8"
      },
      "execution_count": 45,
      "outputs": [
        {
          "output_type": "stream",
          "name": "stdout",
          "text": [
            "5000 5% (0m 5s) 2.6934 Gashkin / Scottish ✗ (Russian)\n",
            "10000 10% (0m 10s) 1.6080 Huynh / Vietnamese ✓\n",
            "15000 15% (0m 15s) 0.7332 Vlahos / Greek ✓\n",
            "20000 20% (0m 21s) 2.8864 Rackham / Irish ✗ (English)\n",
            "25000 25% (0m 26s) 2.3658 Lightfoot / Russian ✗ (English)\n",
            "30000 30% (0m 32s) 0.7370 Meeuwissen / Dutch ✓\n",
            "35000 35% (0m 37s) 0.7824 Cho / Korean ✓\n",
            "40000 40% (0m 42s) 0.5814 Matsumara / Japanese ✓\n",
            "45000 45% (0m 48s) 0.7896 Klimek / Polish ✓\n",
            "50000 50% (0m 53s) 0.3114 You / Korean ✓\n",
            "55000 55% (0m 59s) 0.5587 Kuijpers / Dutch ✓\n",
            "60000 60% (1m 4s) 4.9212 Lis / Chinese ✗ (Polish)\n",
            "65000 65% (1m 10s) 1.4025 Bhrighde / Japanese ✗ (Irish)\n",
            "70000 70% (1m 15s) 0.6936 Schneijder / Dutch ✓\n",
            "75000 75% (1m 21s) 0.2384 Thao / Vietnamese ✓\n",
            "80000 80% (1m 26s) 1.6746 Lenz / Chinese ✗ (German)\n",
            "85000 85% (1m 31s) 0.1707 Yao / Chinese ✓\n",
            "90000 90% (1m 37s) 2.2038 Whelan / Scottish ✗ (Irish)\n",
            "95000 95% (1m 42s) 2.0060 Augustin / Russian ✗ (French)\n",
            "100000 100% (1m 47s) 2.1651 Rong / Korean ✗ (Chinese)\n"
          ]
        }
      ]
    },
    {
      "cell_type": "code",
      "source": [
        "import matplotlib.pyplot as plt\n",
        "import matplotlib.ticker as ticker\n",
        "\n",
        "plt.figure()\n",
        "plt.plot(all_losses)"
      ],
      "metadata": {
        "colab": {
          "base_uri": "https://localhost:8080/",
          "height": 282
        },
        "id": "KH_LOxcYj7Yu",
        "outputId": "b3686b09-ab38-408c-f5e1-695c641a3653"
      },
      "execution_count": 46,
      "outputs": [
        {
          "output_type": "execute_result",
          "data": {
            "text/plain": [
              "[<matplotlib.lines.Line2D at 0x7fe0ea39c310>]"
            ]
          },
          "metadata": {},
          "execution_count": 46
        },
        {
          "output_type": "display_data",
          "data": {
            "image/png": "[encoded data removed]",
            "text/plain": [
              "<Figure size 432x288 with 1 Axes>"
            ]
          },
          "metadata": {
            "needs_background": "light"
          }
        }
      ]
    },
    {
      "cell_type": "code",
      "source": [
        "#Let's evaluate the results\n",
        "\n",
        "confusion = torch.zeros(n_categories,n_categories)\n",
        "n_confusion = 10000\n",
        "\n",
        "#Return an output given a line\n",
        "def evaluate(line_tensor):\n",
        "  hidden = rnn.initHidden()\n",
        "\n",
        "  for i in range(line_tensor.size()[0]):\n",
        "    output, hidden = rnn(line_tensor[i],hidden)\n",
        "  return output\n",
        "\n",
        "#Go through a bunch of examples and see which is correctly  guessed\n",
        "for i in range(n_confusion):\n",
        "  category, line, category_tensor, line_tensor = randomTrainingExample()\n",
        "  output = evaluate(line_tensor)\n",
        "  guess, guess_i = categoryFromOutput(output)\n",
        "  category_i = all_categories.index(category)\n",
        "  confusion[category_i][guess_i] +=1\n",
        "\n",
        "\n",
        "# Normalize by dividing every row by its sum\n",
        "for i in range(n_categories):\n",
        "    confusion[i] = confusion[i] / confusion[i].sum()\n",
        "\n",
        "# Set up plot\n",
        "fig = plt.figure(figsize = (10,10))\n",
        "ax = fig.add_subplot(111)\n",
        "cax = ax.matshow(confusion.numpy())\n",
        "fig.colorbar(cax)\n",
        "\n",
        "# Set up axes\n",
        "ax.set_xticklabels([''] + all_categories, rotation=90)\n",
        "ax.set_yticklabels([''] + all_categories)\n",
        "\n",
        "# Force label at every tick\n",
        "ax.xaxis.set_major_locator(ticker.MultipleLocator(1))\n",
        "ax.yaxis.set_major_locator(ticker.MultipleLocator(1))\n",
        "\n",
        "# sphinx_gallery_thumbnail_number = 2\n",
        "plt.show()"
      ],
      "metadata": {
        "colab": {
          "base_uri": "https://localhost:8080/",
          "height": 598
        },
        "id": "iV-_pO6ilEqQ",
        "outputId": "cff4e5d1-0e5e-4703-9471-d85d2351d4b5"
      },
      "execution_count": 49,
      "outputs": [
        {
          "output_type": "display_data",
          "data": {
            "image/png": "[encoded data removed]",
            "text/plain": [
              "<Figure size 720x720 with 2 Axes>"
            ]
          },
          "metadata": {
            "needs_background": "light"
          }
        }
      ]
    },
    {
      "cell_type": "code",
      "source": [
        "def predict(input_line, n_predictions=3):\n",
        "    print('\\n> %s' % input_line)\n",
        "    with torch.no_grad():\n",
        "        output = evaluate(lineToTensor(input_line))\n",
        "\n",
        "        # Get top N categories\n",
        "        topv, topi = output.topk(n_predictions, 1, True)\n",
        "        predictions = []\n",
        "\n",
        "        for i in range(n_predictions):\n",
        "            value = topv[0][i].item()\n",
        "            category_index = topi[0][i].item()\n",
        "            print('(%.2f) %s' % (value, all_categories[category_index]))\n",
        "            predictions.append([value, all_categories[category_index]])\n",
        "\n",
        "predict('Dovesky')\n",
        "predict('Jackson')\n",
        "predict('Satoshi')"
      ],
      "metadata": {
        "colab": {
          "base_uri": "https://localhost:8080/"
        },
        "id": "nLyBVDDpohMY",
        "outputId": "01bbacf7-93a4-4d3d-9e97-ed97f1c95ad9"
      },
      "execution_count": 50,
      "outputs": [
        {
          "output_type": "stream",
          "name": "stdout",
          "text": [
            "\n",
            "> Dovesky\n",
            "(-0.38) Russian\n",
            "(-1.50) Czech\n",
            "(-3.37) English\n",
            "\n",
            "> Jackson\n",
            "(-0.27) Scottish\n",
            "(-2.16) English\n",
            "(-2.83) Russian\n",
            "\n",
            "> Satoshi\n",
            "(-0.82) Arabic\n",
            "(-1.39) Japanese\n",
            "(-2.26) Polish\n"
          ]
        }
      ]
    },
    {
      "cell_type": "code",
      "source": [
        ""
      ],
      "metadata": {
        "id": "8apV2U6DpNXU"
      },
      "execution_count": null,
      "outputs": []
    }
  ]
}